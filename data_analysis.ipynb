{
  "cells": [
    {
      "cell_type": "markdown",
      "metadata": {},
      "source": [
        "```\n",
        "   ___      _          _          _                         _         \n",
        "  / _ \\  __| | ___  __| | ___  __| |_ __ _____      ___ __ | | ___   \n",
        " / /_)/ / _` |/ _ \\/ _` |/ _ \\/ _` | '__/ _ \\ \\ /\\ / / '_ \\| |/ _ \\  \n",
        "/ ___/ | (_| |  __/ (_| |  __/ (_| | | |  __/\\ V  V /| |_) | |  __/  \n",
        "\\/      \\__,_|\\___|\\__,_|\\___|\\__,_|_|  \\___| \\_/\\_/ | .__/|_|\\___|  \n",
        "                                                   |_|               \n",
        "```"
      ]
    },
    {
      "cell_type": "markdown",
      "metadata": {},
      "source": [
        "# Data Analysis Notebook\n",
        "In this notebook, we analyze the **final processed personal health dataset** containing:\n",
        "- Days, Weight(kg), Step_count, Gym, Calorie(kcal)\n",
        "- Additional engineered columns: Gym_Bool, Day_Type, Weight_Change, Step_RollingAvg_7d\n",
        "\n",
        "## Table of Contents\n",
        "1. [Introduction](#introduction)\n",
        "2. [Research Questions](#research-questions)\n",
        "3. [Imports & Data Loading](#imports-and-data)\n",
        "4. [Exploratory Data Analysis (EDA)](#eda)\n",
        "5. [Question 1: Calorie Intake & Weight Changes](#q1)\n",
        "6. [Question 2: Physical Activity & Weight Management](#q2)\n",
        "7. [Question 3: Interplay Between Calorie Intake & Physical Activity](#q3)\n",
        "8. [Question 4: Temporal Patterns & Trends](#q4)\n",
        "9. [Conclusion](#conclusion)\n"
      ]
    },
    {
      "cell_type": "markdown",
      "metadata": {},
      "source": [
        "<a id='introduction'></a>\n",
        "## 1. Introduction\n",
        "The dataset captures daily records of **body weight**, **steps**, **calories**, and whether or not a gym session occurred. We have also derived features like:\n",
        "- **Gym_Bool**: `True` if Gym == \"Yes`, otherwise `False`.\n",
        "- **Day_Type**: Whether the day is a `Weekday` or `Weekend`.\n",
        "- **Weight_Change**: The day-to-day difference in weight.\n",
        "- **Step_RollingAvg_7d**: A 7-day rolling average of step counts.\n",
        "\n",
        "Our goal is to address multiple research questions through statistical tests and patterns in the data."
      ]
    },
    {
      "cell_type": "markdown",
      "metadata": {},
      "source": [
        "<a id='research-questions'></a>\n",
        "## 2. Research Questions\n",
        "1. **Calorie Intake & Weight Changes**  \n",
        "   - *How does daily calorie intake correlate with weight fluctuations?*  \n",
        "   - *Are there patterns that precede weight gain or loss?*\n",
        "\n",
        "2. **Physical Activity & Weight Management**  \n",
        "   - *What is the relationship between daily steps/gym visits and weight changes?*  \n",
        "   - *Does higher physical activity contribute significantly to weight loss or maintenance?*\n",
        "\n",
        "3. **Interplay Between Calorie Intake & Physical Activity**  \n",
        "   - *How do calories and steps together influence weight over time?*  \n",
        "   - *Which combinations of calorie consumption and activity appear optimal?*\n",
        "\n",
        "4. **Temporal Patterns & Trends**  \n",
        "   - *Are there weekday/weekend differences in weight, steps, or calories?*  \n",
        "   - *Are there long-term trends or seasonal patterns (if we had enough data)?*"
      ]
    },
    {
      "cell_type": "markdown",
      "metadata": {},
      "source": [
        "<a id='imports-and-data'></a>\n",
        "## 3. Imports & Data Loading\n",
        "We'll bring in necessary Python libraries and load the `my_personal_health_data_processed.csv` file, which was produced after data processing."
      ]
    },
    {
      "cell_type": "code",
      "execution_count": null,
      "metadata": {
        "trusted": true
      },
      "outputs": [],
      "source": [
        "import pandas as pd\n",
        "import numpy as np\n",
        "import seaborn as sns\n",
        "import matplotlib.pyplot as plt\n",
        "from scipy import stats\n",
        "import warnings\n",
        "\n",
        "warnings.filterwarnings('ignore', category=FutureWarning)\n",
        "sns.set_theme(style=\"whitegrid\", context=\"notebook\")\n",
        "\n",
        "# Load the processed data\n",
        "df = pd.read_csv(\"my_personal_health_data_processed.csv\")\n",
        "\n",
        "print(\"Data loaded. Shape:\", df.shape)\n",
        "display(df.head())"
      ]
    },
    {
      "cell_type": "markdown",
      "metadata": {},
      "source": [
        "<a id='eda'></a>\n",
        "## 4. Exploratory Data Analysis (EDA)\n",
        "Before diving into each research question, let's:\n",
        "1. Review summary statistics (mean, std, etc.).\n",
        "2. Look at correlation among numerical features.\n",
        "3. Potentially identify any data anomalies."
      ]
    },
    {
      "cell_type": "code",
      "execution_count": null,
      "metadata": {
        "trusted": true
      },
      "outputs": [],
      "source": [
        "# 4.1 Summary Stats\n",
        "display(df.describe())\n",
        "\n",
        "# 4.2 Check correlation among numeric columns\n",
        "numeric_cols = ['Weight(kg)', 'Step_count', 'Calorie(kcal)', 'Weight_Change', 'Step_RollingAvg_7d']\n",
        "corr = df[numeric_cols].corr()\n",
        "\n",
        "plt.figure(figsize=(6,4))\n",
        "sns.heatmap(corr, annot=True, cmap='coolwarm', fmt='.2f')\n",
        "plt.title(\"Correlation Matrix\")\n",
        "plt.show()\n",
        "\n",
        "print(\"\\nObservations:\")\n",
        "print(\"- Check the sign and strength of correlations between weight and calorie intake, steps, etc.\")"
      ]
    },
    {
      "cell_type": "markdown",
      "metadata": {},
      "source": [
        "<a id='q1'></a>\n",
        "## 5. Question 1: Calorie Intake & Weight Changes\n",
        "**Research Aim**: How does daily calorie intake correlate with fluctuations in body weight?\n",
        "\n",
        "### Hypothesis\n",
        "- **Null Hypothesis (H0)**: There is **no** significant correlation between daily calorie intake and weight.\n",
        "- **Alternative Hypothesis (H1)**: There **is** a significant correlation between daily calorie intake and weight.\n",
        "\n",
        "**Plan**:\n",
        "1. We’ll compute Pearson correlation between `Weight(kg)` and `Calorie(kcal)`.\n",
        "2. Perform a linear regression or simple scatter + regression line to visualize.\n",
        "3. Check if prior day’s calories relate to next day’s weight (`Calorie(kcal)` shifted by 1)."
      ]
    },
    {
      "cell_type": "code",
      "execution_count": null,
      "metadata": {
        "trusted": true
      },
      "outputs": [],
      "source": [
        "# 5.1 Correlation between Calorie(kcal) & Weight(kg)\n",
        "corr_cal_weight = df['Calorie(kcal)'].corr(df['Weight(kg)'])\n",
        "print(f\"Pearson correlation (Weight vs. Calories): {corr_cal_weight:.3f}\")\n",
        "\n",
        "# 5.2 Scatter + regression\n",
        "import seaborn as sns\n",
        "plt.figure(figsize=(7,5))\n",
        "sns.regplot(x='Calorie(kcal)', y='Weight(kg)', data=df)\n",
        "plt.title(\"Weight(kg) vs. Calorie(kcal)\")\n",
        "plt.show()\n",
        "\n",
        "# 5.3 Check previous-day calories -> today's weight\n",
        "df['Calorie_PrevDay'] = df['Calorie(kcal)'].shift(1)\n",
        "corr_lead = df['Weight(kg)'].corr(df['Calorie_PrevDay'])\n",
        "print(f\"Pearson correlation (Today Weight vs. Previous-Day Calories): {corr_lead:.3f}\")"
      ]
    },
    {
      "cell_type": "markdown",
      "metadata": {},
      "source": [
        "**Interpretation**:\n",
        "- If the correlation is close to 0, it suggests no strong linear relationship.\n",
        "- If the correlation is positive (e.g., > 0.3), we might suspect higher calorie intake aligns with higher weight.\n",
        "- Checking how *previous day’s calories* relate to *today’s weight* can be more relevant for cause/effect timing.\n",
        "\n",
        "_If p-values or a more formal test is needed, we can use a linear regression or repeated measures approach. But for a quick check, correlation is enough._"
      ]
    },
    {
      "cell_type": "markdown",
      "metadata": {},
      "source": [
        "<a id='q2'></a>\n",
        "## 6. Question 2: Physical Activity & Weight Management\n",
        "**Research Aim**: Does increased physical activity (steps, gym visits) significantly contribute to weight loss or maintenance?\n",
        "\n",
        "### Hypothesis\n",
        "- **Null Hypothesis (H0)**: Weight is independent of daily step count/gym attendance.\n",
        "- **Alternative Hypothesis (H1)**: Weight is significantly different when steps are high vs. low, or gym vs. no-gym.\n",
        "\n",
        "**Plan**:\n",
        "1. Compare `Weight(kg)` on days with gym vs. days without (T-test or a simple group comparison).\n",
        "2. Correlation or regression for `Step_count` vs. `Weight(kg)`.\n",
        "3. Possibly do a t-test comparing `Weight(kg)` for high-step vs. low-step days (split by median)."
      ]
    },
    {
      "cell_type": "code",
      "execution_count": null,
      "metadata": {
        "trusted": true
      },
      "outputs": [],
      "source": [
        "# 6.1 Gym vs. Non-Gym Weight Comparison (T-test)\n",
        "\n",
        "gym_days = df[df['Gym_Bool'] == True]['Weight(kg)']\n",
        "no_gym_days = df[df['Gym_Bool'] == False]['Weight(kg)']\n",
        "t_stat, p_val = stats.ttest_ind(gym_days, no_gym_days, equal_var=False)\n",
        "print(\"Gym vs. No-Gym:\")\n",
        "print(f\"  T-stat: {t_stat:.3f}, p-value: {p_val:.3f}\")\n",
        "\n",
        "# 6.2 Correlation Step_count vs. Weight\n",
        "corr_steps_weight = df['Step_count'].corr(df['Weight(kg)'])\n",
        "print(f\"\\nCorrelation (Steps vs. Weight): {corr_steps_weight:.3f}\")\n",
        "\n",
        "# 6.3 High-Step vs. Low-Step Weight\n",
        "median_steps = df['Step_count'].median()\n",
        "df['Step_Level'] = np.where(df['Step_count'] >= median_steps, 'HighStep', 'LowStep')\n",
        "\n",
        "high_step_weight = df[df['Step_Level'] == 'HighStep']['Weight(kg)']\n",
        "low_step_weight = df[df['Step_Level'] == 'LowStep']['Weight(kg)']\n",
        "t_stat_2, p_val_2 = stats.ttest_ind(high_step_weight, low_step_weight, equal_var=False)\n",
        "print(\"\\nHigh-Step vs. Low-Step:\")\n",
        "print(f\"  T-stat: {t_stat_2:.3f}, p-value: {p_val_2:.3f}\")"
      ]
    },
    {
      "cell_type": "markdown",
      "metadata": {},
      "source": [
        "**Interpretation**:\n",
        "- If p-value < 0.05 (for example), we might reject the null hypothesis and say there is a significant difference.\n",
        "- The correlation sign for `Step_count` vs. `Weight(kg)` tells if higher steps align with lower/higher weight.\n",
        "- T-tests for Gym vs. No-Gym and High vs. Low step days provide insights into whether these groupings differ significantly."
      ]
    },
    {
      "cell_type": "markdown",
      "metadata": {},
      "source": [
        "<a id='q3'></a>\n",
        "## 7. Question 3: Interplay Between Calorie Intake & Physical Activity\n",
        "**Research Aim**: How do calorie intake and step count interact to influence weight?\n",
        "\n",
        "### Hypothesis\n",
        "- **Null Hypothesis (H0)**: Weight is not better explained by combining *both* calories and steps than by either alone.\n",
        "- **Alternative Hypothesis (H1)**: A multiple regression (calories + steps) explains weight better than single-variable approaches.\n",
        "\n",
        "**Plan**:\n",
        "1. Perform a **multiple linear regression**: `Weight(kg)` ~ `Calorie(kcal)` + `Step_count`.\n",
        "2. Compare the model’s R-squared to a single-variable model.\n",
        "3. Inspect coefficients to see how each variable influences weight when controlling for the other."
      ]
    },
    {
      "cell_type": "code",
      "execution_count": null,
      "metadata": {
        "trusted": true
      },
      "outputs": [],
      "source": [
        "# 7.1 Multiple Linear Regression\n",
        "import statsmodels.api as sm\n",
        "\n",
        "# Prepare X and y\n",
        "X = df[['Calorie(kcal)', 'Step_count']]  # two predictors\n",
        "y = df['Weight(kg)']\n",
        "\n",
        "# Add constant (intercept)\n",
        "X = sm.add_constant(X)\n",
        "model = sm.OLS(y, X).fit()\n",
        "print(model.summary())\n",
        "\n",
        "# Observing R-squared, p-values for each coefficient, etc.\n",
        "print(\"\\nInterpretation:\")\n",
        "print(\"- Check how significant each variable is (p < 0.05?).\")\n",
        "print(\"- Note the R-squared: a higher value suggests better fit.\")"
      ]
    },
    {
      "cell_type": "markdown",
      "metadata": {},
      "source": [
        "**Interpretation**:\n",
        "- If both steps and calories have statistically significant coefficients (p < 0.05), it suggests each contributes to explaining weight variation.\n",
        "- If one or both are insignificant, that variable may not add much predictive power.\n",
        "- R-squared indicates how much variance in weight is explained by these two predictors.\n"
      ]
    },
    {
      "cell_type": "markdown",
      "metadata": {},
      "source": [
        "<a id='q4'></a>\n",
        "## 8. Question 4: Temporal Patterns & Trends\n",
        "**Research Aim**: Are there weekday/weekend differences, or other patterns over time?\n",
        "\n",
        "### Hypothesis (Example)\n",
        "- **Null Hypothesis (H0)**: There is **no** difference in `Weight(kg)` between weekdays and weekends.\n",
        "- **Alternative Hypothesis (H1)**: There **is** a difference (weekend vs. weekday).\n",
        "\n",
        "**Plan**:\n",
        "1. Compare average weight on weekend vs. weekday (t-test or groupby).\n",
        "2. Possibly look at step counts for weekend vs. weekday.\n"
      ]
    },
    {
      "cell_type": "code",
      "execution_count": null,
      "metadata": {
        "trusted": true
      },
      "outputs": [],
      "source": [
        "# 8.1 Weekend vs. Weekday Weight\n",
        "weekend_weight = df[df['Day_Type'] == 'Weekend']['Weight(kg)']\n",
        "weekday_weight = df[df['Day_Type'] == 'Weekday']['Weight(kg)']\n",
        "t_stat_3, p_val_3 = stats.ttest_ind(weekend_weight, weekday_weight, equal_var=False)\n",
        "print(\"Weekend vs. Weekday Weight:\")\n",
        "print(f\"  T-stat: {t_stat_3:.3f}, p-value: {p_val_3:.3f}\")\n",
        "\n",
        "# 8.2 Quick boxplot\n",
        "import matplotlib.pyplot as plt\n",
        "plt.figure(figsize=(6,5))\n",
        "sns.boxplot(x='Day_Type', y='Weight(kg)', data=df)\n",
        "plt.title(\"Weight Distribution: Weekend vs. Weekday\")\n",
        "plt.show()"
      ]
    },
    {
      "cell_type": "markdown",
      "metadata": {},
      "source": [
        "**Interpretation**:\n",
        "- If p < 0.05, we might say there is a significant difference in average weight.\n",
        "- You could also compare step counts or calorie intake in the same manner.\n",
        "\n",
        "_If additional time-based patterns (e.g., a month’s worth of data) exist, you could do line plots over time to see trends. With a relatively small dataset, this is limited._"
      ]
    },
    {
      "cell_type": "markdown",
      "metadata": {},
      "source": [
        "<a id='conclusion'></a>\n",
        "## 9. Conclusion\n",
        "**Summary of Findings**\n",
        "- **Calorie Intake & Weight**: We explored correlation, possibly a scatter plot, to see if daily calories align with weight changes. If correlation is small or p > 0.05, the relationship may be weak.\n",
        "- **Physical Activity**: T-tests on `Gym_Bool` vs. Weight, and high-step vs. low-step, indicate whether more activity correlates with lower weight.\n",
        "- **Interplay**: A multiple regression can show if combining calories + steps better explains weight variation.\n",
        "- **Temporal Patterns**: We tested if `Day_Type` (weekend vs. weekday) influences weight or steps.\n",
        "\n",
        "**Next Steps**\n",
        "1. **Refine Feature Engineering**: Possibly incorporate sleep, water intake, or macros if available.\n",
        "2. **Longer Data Collection**: More data across months or years for stronger time-series analysis.\n",
        "3. **Advanced Modeling**: Use machine learning methods (e.g., random forests, gradient boosting) or multi-variate time-series to predict weight changes.\n",
        "\n",
        "_This concludes our data analysis notebook for the personal health dataset._"
      ]
    }
  ],
  "metadata": {
    "kernelspec": {
      "display_name": "Python 3",
      "language": "python",
      "name": "python"
    },
    "language_info": {
      "name": "python",
      "version": "3.9"
    }
  },
  "nbformat": 4,
  "nbformat_minor": 5
}
