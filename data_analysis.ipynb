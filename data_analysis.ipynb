# data_analysis.ipynb

# ------------------------------------------------------------------------------
# 1. Imports and Functions
# ------------------------------------------------------------------------------
import pandas as pd
import numpy as np
import matplotlib.pyplot as plt
import seaborn as sns
from scipy import stats
from distfit import distfit
import altair as alt

# Enable Altair in Jupyter notebook (if in classic notebook or JupyterLab)
alt.renderers.enable('default')

# Example helper functions:
def gym_to_bool(val):
    """
    Convert 'Yes'/'No' or blank to boolean.
    Returns True if val == 'Yes', False otherwise.
    """
    return True if val == 'Yes' else False

def day_type(day):
    """
    Classify days into 'Weekend' or 'Weekday'.
    """
    if day in ['Saturday', 'Sunday']:
        return 'Weekend'
    else:
        return 'Weekday'

# ------------------------------------------------------------------------------
# 2. Loading the Dataset
# ------------------------------------------------------------------------------
# Assuming the final dataset is saved as "my_health_data_processed.csv"
df = pd.read_csv('my_health_data_processed.csv')

# If you have not done so, you may need to convert Gym to a proper value:
df['Gym'] = df['Gym'].fillna('No')
df['Gym_Bool'] = df['Gym'].apply(gym_to_bool)

# Create Day_Type for weekend vs. weekday
df['Day_Type'] = df['Days'].apply(day_type)

# Quick check
print("First 5 rows of the dataset:")
display(df.head())

# ------------------------------------------------------------------------------
# 3. Exploratory Data Analysis (EDA)
# ------------------------------------------------------------------------------
print("Basic Info:")
print(df.info())
print("\nSummary Statistics:")
display(df.describe())

# Check distributions of key variables
fig, axs = plt.subplots(1, 3, figsize=(15, 5))
sns.histplot(data=df, x='Weight(kg)', kde=True, ax=axs[0])
axs[0].set_title("Distribution of Weight(kg)")
sns.histplot(data=df, x='Step_count', kde=True, ax=axs[1])
axs[1].set_title("Distribution of Step Count")
sns.histplot(data=df, x='Calorie(kcal)', kde=True, ax=axs[2])
axs[2].set_title("Distribution of Daily Calorie Intake")
plt.tight_layout()
plt.show()

# ------------------------------------------------------------------------------
# 4. Addressing Main Research Questions
# ------------------------------------------------------------------------------

# ------------------------------------------------------------------------------
# 4.1 Calorie Intake and Weight Changes
# ------------------------------------------------------------------------------
# Question:
# How does my daily calorie intake correlate with fluctuations in my body weight?
# Are there specific patterns or trends in calorie consumption that precede weight gain or loss?

# Let's look at correlation between Weight(kg) and Calorie(kcal).
corr_cal_weight = df['Weight(kg)'].corr(df['Calorie(kcal)'])
print(f"Correlation between Weight(kg) and Calorie(kcal): {corr_cal_weight:.2f}")

# Scatter Plot with regression line
plt.figure(figsize=(7,5))
sns.regplot(data=df, x='Calorie(kcal)', y='Weight(kg)')
plt.title("Weight(kg) vs. Calorie(kcal) with Regression Line")
plt.show()

# We could also look at difference in weight day-to-day
df['Weight_Diff'] = df['Weight(kg)'].diff().fillna(0)
# Then see if calorie leads to next-day weight changes (simple approach)
df['Calorie_Prev_Day'] = df['Calorie(kcal)'].shift(1).fillna(df['Calorie(kcal)'].mean())
corr_lead = df['Weight(kg)'].corr(df['Calorie_Prev_Day'])
print(f"Correlation between today's Weight(kg) and previous day's Calorie(kcal): {corr_lead:.2f}")

# ------------------------------------------------------------------------------
# 4.2 Physical Activity and Weight Management
# ------------------------------------------------------------------------------
# Question:
# What is the relationship between daily step count and changes in my weight?
# Does increased physical activity significantly contribute to weight loss or maintenance?

# Correlation between Weight(kg) and Step_count
corr_step_weight = df['Weight(kg)'].corr(df['Step_count'])
print(f"Correlation between Weight(kg) and Step_count: {corr_step_weight:.2f}")

# Let's separate data into "High Step" vs. "Low Step" based on median
median_steps = df['Step_count'].median()
df['Step_Level'] = np.where(df['Step_count'] >= median_steps, 'High Step', 'Low Step')

# Compare weight distribution for High Step vs. Low Step
plt.figure(figsize=(6,5))
sns.boxplot(data=df, x='Step_Level', y='Weight(kg)')
plt.title("Weight(kg) Distribution by Step Level")
plt.show()

# T-test for difference in average weight between High Step and Low Step days
high_step_weight = df.loc[df['Step_Level'] == 'High Step', 'Weight(kg)']
low_step_weight = df.loc[df['Step_Level'] == 'Low Step', 'Weight(kg)']
t_stat, p_val = stats.ttest_ind(high_step_weight, low_step_weight, equal_var=False)
print(f"T-test for Weight(kg) High Step vs. Low Step: t={t_stat:.3f}, p={p_val:.3f}")

# ------------------------------------------------------------------------------
# 4.3 Interplay Between Calorie Intake and Physical Activity
# ------------------------------------------------------------------------------
# Question:
# How do calorie intake and step count interact to influence my weight over time?
# Can we identify optimal combinations of calorie consumption and physical activity
# that promote healthy weight management?

# For a simple approach, let's do a multiple regression:
# Weight(kg) ~ Step_count + Calorie(kcal)
import statsmodels.api as sm

X = df[['Step_count', 'Calorie(kcal)']]
y = df['Weight(kg)']
X = sm.add_constant(X)  # Add intercept

model = sm.OLS(y, X).fit()
print(model.summary())

# The regression summary can give insight into how both step count and calorie
# intake together relate to weight.

# ------------------------------------------------------------------------------
# 4.4 Temporal Patterns and Long-Term Trends
# ------------------------------------------------------------------------------
# Question:
# Are there any seasonal or temporal trends in my data that affect calorie intake,
# step count, or weight?
# How have my health metrics evolved over the duration of data collection?

# We'll assume 'Days' are sequential. If you have a real date, you could convert
# that to datetime for time-series analysis.

# Quick line plot across the sequence to see trends:
plt.figure(figsize=(10,6))
plt.plot(df.index, df['Weight(kg)'], marker='o', label='Weight(kg)')
plt.plot(df.index, df['Calorie(kcal)'], marker='o', label='Calorie(kcal)')
plt.plot(df.index, df['Step_count'], marker='o', label='Step_count')
plt.legend()
plt.xlabel("Day Index")
plt.ylabel("Values")
plt.title("Temporal Trends in Weight, Calorie, and Step Count")
plt.show()

# We can also check if there's any difference between Weekend vs. Weekday
plt.figure(figsize=(6,5))
sns.boxplot(data=df, x='Day_Type', y='Weight(kg)')
plt.title("Weight(kg) Distribution: Weekend vs. Weekday")
plt.show()

# T-test: Weekend vs. Weekday weight
weekend_weight = df.loc[df['Day_Type'] == 'Weekend', 'Weight(kg)']
weekday_weight = df.loc[df['Day_Type'] == 'Weekday', 'Weight(kg)']
t_stat_daytype, p_val_daytype = stats.ttest_ind(weekend_weight, weekday_weight, equal_var=False)
print(f"T-test for Weight(kg) Weekend vs. Weekday: t={t_stat_daytype:.3f}, p={p_val_daytype:.3f}")

# ------------------------------------------------------------------------------
# 5. Distribution Fitting Example (Using distfit)
# ------------------------------------------------------------------------------
# Let's try an example on step_count data:
distf = distfit(todf=True)
results = distf.fit_transform(df['Step_count'])
print("\nDistribution Fit Results for 'Step_count':")
print(results)

# Let's plot the fitted distribution
distf.plot(plot_type='model')
plt.title("Fitted Distribution for Step_count")
plt.show()

# ------------------------------------------------------------------------------
# 6. Additional Visualizations / Hypothesis Tests
# ------------------------------------------------------------------------------
# e.g., Gym vs. Non-gym day weight
plt.figure(figsize=(6,5))
sns.boxplot(data=df, x='Gym_Bool', y='Weight(kg)')
plt.title("Weight(kg) Distribution: Gym vs. Non-Gym Days")
plt.show()

t_stat_gym, p_val_gym = stats.ttest_ind(
    df.loc[df['Gym_Bool'] == True, 'Weight(kg)'],
    df.loc[df['Gym_Bool'] == False, 'Weight(kg)'],
    equal_var=False
)
print(f"T-test for Weight(kg) Gym vs. Non-Gym: t={t_stat_gym:.3f}, p={p_val_gym:.3f}")

# ------------------------------------------------------------------------------
# 7. Conclusion / Summary
# ------------------------------------------------------------------------------
"""
Summary:
1) Correlation & Regression:
   - Explored correlation between calorie intake & weight, step count & weight.
   - Ran a multiple regression to see combined influence of step count & calorie intake.
2) Hypothesis Tests (T-tests):
   - Compared weight on high-step vs. low-step days.
   - Compared weight on weekend vs. weekday.
   - Compared weight on gym vs. non-gym days.
3) Distribution Fitting:
   - Showed how to use distfit for modeling the distribution of step counts.

These analyses address the previously stated research questions about
calorie intake, physical activity, interplay between them, and temporal trends.
Adjust code and additional methods as necessary for deeper insights or
further machine learning techniques.
"""
