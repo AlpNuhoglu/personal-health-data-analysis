{
 "cells": [
  {
   "cell_type": "markdown",
   "id": "6ac5e4e2",
   "metadata": {},
   "source": [
    "```\n",
    "   ___      _          _          _                         _         \n",
    "  / _ \\  __| | ___  __| | ___  __| |_ __ _____      ___ __ | | ___   \n",
    " / /_)/ / _` |/ _ \\/ _` |/ _ \\/ _` | '__/ _ \\ \\ /\\ / / '_ \\| |/ _ \\  \n",
    "/ ___/ | (_| |  __/ (_| |  __/ (_| | | |  __/\\ V  V /| |_) | |  __/  \n",
    "\\/      \\__,_|\\___|\\__,_|\\___|\\__,_|_|  \\___| \\_/\\_/ | .__/|_|\\___|  \n",
    "                                                   |_|               \n",
    "```"
   ]
  },
  {
   "cell_type": "markdown",
   "id": "d4f017f0",
   "metadata": {},
   "source": [
    "# Data Analysis Notebook\n",
    "In this notebook, we analyze the **final processed personal health dataset** containing:\n",
    "- Days, Weight(kg), Step_count, Gym, Calorie(kcal)\n",
    "- Additional engineered columns: Gym_Bool, Day_Type, Weight_Change, Step_RollingAvg_7d\n",
    "\n",
    "## Table of Contents\n",
    "1. [Introduction](#introduction)\n",
    "2. [Research Questions](#research-questions)\n",
    "3. [Imports & Data Loading](#imports-and-data)\n",
    "4. [Exploratory Data Analysis (EDA)](#eda)\n",
    "5. [Question 1: Calorie Intake & Weight Changes](#q1)\n",
    "6. [Question 2: Physical Activity & Weight Management](#q2)\n",
    "7. [Question 3: Interplay Between Calorie Intake & Physical Activity](#q3)\n",
    "8. [Question 4: Temporal Patterns & Trends](#q4)\n",
    "9. [Conclusion](#conclusion)\n"
   ]
  },
  {
   "cell_type": "markdown",
   "id": "ede41d43",
   "metadata": {},
   "source": [
    "<a id='introduction'></a>\n",
    "## 1. Introduction\n",
    "The dataset captures daily records of **body weight**, **steps**, **calories**, and whether or not a gym session occurred. We have also derived features like:\n",
    "- **Gym_Bool**: `True` if Gym == \"Yes`, otherwise `False`.\n",
    "- **Day_Type**: Whether the day is a `Weekday` or `Weekend`.\n",
    "- **Weight_Change**: The day-to-day difference in weight.\n",
    "- **Step_RollingAvg_7d**: A 7-day rolling average of step counts.\n",
    "\n",
    "Our goal is to address multiple research questions through statistical tests and patterns in the data."
   ]
  },
  {
   "cell_type": "markdown",
   "id": "8b94ba19",
   "metadata": {},
   "source": [
    "<a id='research-questions'></a>\n",
    "## 2. Research Questions\n",
    "1. **Calorie Intake & Weight Changes**  \n",
    "   - *How does daily calorie intake correlate with weight fluctuations?*  \n",
    "   - *Are there patterns that precede weight gain or loss?*\n",
    "\n",
    "2. **Physical Activity & Weight Management**  \n",
    "   - *What is the relationship between daily steps/gym visits and weight changes?*  \n",
    "   - *Does higher physical activity contribute significantly to weight loss or maintenance?*\n",
    "\n",
    "3. **Interplay Between Calorie Intake & Physical Activity**  \n",
    "   - *How do calories and steps together influence weight over time?*  \n",
    "   - *Which combinations of calorie consumption and activity appear optimal?*\n",
    "\n",
    "4. **Temporal Patterns & Trends**  \n",
    "   - *Are there weekday/weekend differences in weight, steps, or calories?*  \n",
    "   - *Are there long-term trends or seasonal patterns (if we had enough data)?*"
   ]
  },
  {
   "cell_type": "markdown",
   "id": "96c7139d",
   "metadata": {},
   "source": [
    "<a id='imports-and-data'></a>\n",
    "## 3. Imports & Data Loading\n",
    "We'll bring in necessary Python libraries and load the `my_personal_health_data_processed.csv` file, which was produced after data processing."
   ]
  },
  {
   "cell_type": "code",
   "execution_count": 3,
   "id": "13fc58f8",
   "metadata": {},
   "outputs": [
    {
     "name": "stdout",
     "output_type": "stream",
     "text": [
      "Data loaded. Shape: (43, 9)\n"
     ]
    },
    {
     "data": {
      "text/html": [
       "<div>\n",
       "<style scoped>\n",
       "    .dataframe tbody tr th:only-of-type {\n",
       "        vertical-align: middle;\n",
       "    }\n",
       "\n",
       "    .dataframe tbody tr th {\n",
       "        vertical-align: top;\n",
       "    }\n",
       "\n",
       "    .dataframe thead th {\n",
       "        text-align: right;\n",
       "    }\n",
       "</style>\n",
       "<table border=\"1\" class=\"dataframe\">\n",
       "  <thead>\n",
       "    <tr style=\"text-align: right;\">\n",
       "      <th></th>\n",
       "      <th>Days</th>\n",
       "      <th>Weight(kg)</th>\n",
       "      <th>Step_count</th>\n",
       "      <th>Gym</th>\n",
       "      <th>Calorie(kcal)</th>\n",
       "      <th>Gym_Bool</th>\n",
       "      <th>Day_Type</th>\n",
       "      <th>Weight_Change</th>\n",
       "      <th>Step_RollingAvg_7d</th>\n",
       "    </tr>\n",
       "  </thead>\n",
       "  <tbody>\n",
       "    <tr>\n",
       "      <th>0</th>\n",
       "      <td>Thursday</td>\n",
       "      <td>89.5</td>\n",
       "      <td>4500</td>\n",
       "      <td>Yes</td>\n",
       "      <td>3410</td>\n",
       "      <td>True</td>\n",
       "      <td>Weekday</td>\n",
       "      <td>0.0</td>\n",
       "      <td>0.0</td>\n",
       "    </tr>\n",
       "    <tr>\n",
       "      <th>1</th>\n",
       "      <td>Sunday</td>\n",
       "      <td>89.3</td>\n",
       "      <td>3254</td>\n",
       "      <td>Yes</td>\n",
       "      <td>3410</td>\n",
       "      <td>True</td>\n",
       "      <td>Weekend</td>\n",
       "      <td>-0.2</td>\n",
       "      <td>0.0</td>\n",
       "    </tr>\n",
       "    <tr>\n",
       "      <th>2</th>\n",
       "      <td>Monday</td>\n",
       "      <td>91.2</td>\n",
       "      <td>4149</td>\n",
       "      <td>No</td>\n",
       "      <td>3410</td>\n",
       "      <td>False</td>\n",
       "      <td>Weekday</td>\n",
       "      <td>1.9</td>\n",
       "      <td>0.0</td>\n",
       "    </tr>\n",
       "    <tr>\n",
       "      <th>3</th>\n",
       "      <td>Tuesday</td>\n",
       "      <td>90.8</td>\n",
       "      <td>7342</td>\n",
       "      <td>Yes</td>\n",
       "      <td>3410</td>\n",
       "      <td>True</td>\n",
       "      <td>Weekday</td>\n",
       "      <td>-0.4</td>\n",
       "      <td>0.0</td>\n",
       "    </tr>\n",
       "    <tr>\n",
       "      <th>4</th>\n",
       "      <td>Wednesday</td>\n",
       "      <td>90.7</td>\n",
       "      <td>7784</td>\n",
       "      <td>Yes</td>\n",
       "      <td>3410</td>\n",
       "      <td>True</td>\n",
       "      <td>Weekday</td>\n",
       "      <td>-0.1</td>\n",
       "      <td>0.0</td>\n",
       "    </tr>\n",
       "  </tbody>\n",
       "</table>\n",
       "</div>"
      ],
      "text/plain": [
       "        Days  Weight(kg)  Step_count  Gym  Calorie(kcal)  Gym_Bool Day_Type  \\\n",
       "0   Thursday        89.5        4500  Yes           3410      True  Weekday   \n",
       "1     Sunday        89.3        3254  Yes           3410      True  Weekend   \n",
       "2     Monday        91.2        4149   No           3410     False  Weekday   \n",
       "3    Tuesday        90.8        7342  Yes           3410      True  Weekday   \n",
       "4  Wednesday        90.7        7784  Yes           3410      True  Weekday   \n",
       "\n",
       "   Weight_Change  Step_RollingAvg_7d  \n",
       "0            0.0                 0.0  \n",
       "1           -0.2                 0.0  \n",
       "2            1.9                 0.0  \n",
       "3           -0.4                 0.0  \n",
       "4           -0.1                 0.0  "
      ]
     },
     "metadata": {},
     "output_type": "display_data"
    }
   ],
   "source": [
    "import pandas as pd\n",
    "import numpy as np\n",
    "import seaborn as sns\n",
    "import matplotlib.pyplot as plt\n",
    "from scipy import stats\n",
    "import warnings\n",
    "\n",
    "warnings.filterwarnings('ignore', category=FutureWarning)\n",
    "sns.set_theme(style=\"whitegrid\", context=\"notebook\")\n",
    "\n",
    "# Load the processed data\n",
    "df = pd.read_csv(\"my_personal_health_data_processed.csv\")\n",
    "\n",
    "print(\"Data loaded. Shape:\", df.shape)\n",
    "display(df.head())"
   ]
  },
  {
   "cell_type": "markdown",
   "id": "720e7b70",
   "metadata": {},
   "source": [
    "<a id='eda'></a>\n",
    "## 4. Exploratory Data Analysis (EDA)\n",
    "Before diving into each research question, let's:\n",
    "1. Review summary statistics (mean, std, etc.).\n",
    "2. Look at correlation among numerical features.\n",
    "3. Potentially identify any data anomalies."
   ]
  },
  {
   "cell_type": "code",
   "execution_count": 4,
   "id": "11bfafe6",
   "metadata": {},
   "outputs": [
    {
     "data": {
      "text/html": [
       "<div>\n",
       "<style scoped>\n",
       "    .dataframe tbody tr th:only-of-type {\n",
       "        vertical-align: middle;\n",
       "    }\n",
       "\n",
       "    .dataframe tbody tr th {\n",
       "        vertical-align: top;\n",
       "    }\n",
       "\n",
       "    .dataframe thead th {\n",
       "        text-align: right;\n",
       "    }\n",
       "</style>\n",
       "<table border=\"1\" class=\"dataframe\">\n",
       "  <thead>\n",
       "    <tr style=\"text-align: right;\">\n",
       "      <th></th>\n",
       "      <th>Weight(kg)</th>\n",
       "      <th>Step_count</th>\n",
       "      <th>Calorie(kcal)</th>\n",
       "      <th>Weight_Change</th>\n",
       "      <th>Step_RollingAvg_7d</th>\n",
       "    </tr>\n",
       "  </thead>\n",
       "  <tbody>\n",
       "    <tr>\n",
       "      <th>count</th>\n",
       "      <td>43.000000</td>\n",
       "      <td>43.000000</td>\n",
       "      <td>43.000000</td>\n",
       "      <td>43.000000</td>\n",
       "      <td>43.000000</td>\n",
       "    </tr>\n",
       "    <tr>\n",
       "      <th>mean</th>\n",
       "      <td>92.579070</td>\n",
       "      <td>5310.093023</td>\n",
       "      <td>3691.046512</td>\n",
       "      <td>0.134884</td>\n",
       "      <td>4705.671096</td>\n",
       "    </tr>\n",
       "    <tr>\n",
       "      <th>std</th>\n",
       "      <td>2.195944</td>\n",
       "      <td>2620.707882</td>\n",
       "      <td>301.021195</td>\n",
       "      <td>2.222170</td>\n",
       "      <td>2197.246462</td>\n",
       "    </tr>\n",
       "    <tr>\n",
       "      <th>min</th>\n",
       "      <td>83.900000</td>\n",
       "      <td>1649.000000</td>\n",
       "      <td>3410.000000</td>\n",
       "      <td>-9.300000</td>\n",
       "      <td>0.000000</td>\n",
       "    </tr>\n",
       "    <tr>\n",
       "      <th>25%</th>\n",
       "      <td>91.250000</td>\n",
       "      <td>2603.500000</td>\n",
       "      <td>3660.000000</td>\n",
       "      <td>-0.200000</td>\n",
       "      <td>3650.642857</td>\n",
       "    </tr>\n",
       "    <tr>\n",
       "      <th>50%</th>\n",
       "      <td>92.600000</td>\n",
       "      <td>4505.000000</td>\n",
       "      <td>3660.000000</td>\n",
       "      <td>0.000000</td>\n",
       "      <td>5738.714286</td>\n",
       "    </tr>\n",
       "    <tr>\n",
       "      <th>75%</th>\n",
       "      <td>94.250000</td>\n",
       "      <td>7590.000000</td>\n",
       "      <td>3660.000000</td>\n",
       "      <td>0.400000</td>\n",
       "      <td>6197.785714</td>\n",
       "    </tr>\n",
       "    <tr>\n",
       "      <th>max</th>\n",
       "      <td>95.700000</td>\n",
       "      <td>10136.000000</td>\n",
       "      <td>4875.000000</td>\n",
       "      <td>10.500000</td>\n",
       "      <td>6983.571429</td>\n",
       "    </tr>\n",
       "  </tbody>\n",
       "</table>\n",
       "</div>"
      ],
      "text/plain": [
       "       Weight(kg)    Step_count  Calorie(kcal)  Weight_Change  \\\n",
       "count   43.000000     43.000000      43.000000      43.000000   \n",
       "mean    92.579070   5310.093023    3691.046512       0.134884   \n",
       "std      2.195944   2620.707882     301.021195       2.222170   \n",
       "min     83.900000   1649.000000    3410.000000      -9.300000   \n",
       "25%     91.250000   2603.500000    3660.000000      -0.200000   \n",
       "50%     92.600000   4505.000000    3660.000000       0.000000   \n",
       "75%     94.250000   7590.000000    3660.000000       0.400000   \n",
       "max     95.700000  10136.000000    4875.000000      10.500000   \n",
       "\n",
       "       Step_RollingAvg_7d  \n",
       "count           43.000000  \n",
       "mean          4705.671096  \n",
       "std           2197.246462  \n",
       "min              0.000000  \n",
       "25%           3650.642857  \n",
       "50%           5738.714286  \n",
       "75%           6197.785714  \n",
       "max           6983.571429  "
      ]
     },
     "metadata": {},
     "output_type": "display_data"
    },
    {
     "data": {
      "image/png": "[encoded data removed]",
      "text/plain": [
       "<Figure size 600x400 with 2 Axes>"
      ]
     },
     "metadata": {},
     "output_type": "display_data"
    },
    {
     "name": "stdout",
     "output_type": "stream",
     "text": [
      "\n",
      "Observations:\n",
      "- Check the sign and strength of correlations between weight and calorie intake, steps, etc.\n"
     ]
    }
   ],
   "source": [
    "# 4.1 Summary Stats\n",
    "display(df.describe())\n",
    "\n",
    "# 4.2 Check correlation among numeric columns\n",
    "numeric_cols = ['Weight(kg)', 'Step_count', 'Calorie(kcal)', 'Weight_Change', 'Step_RollingAvg_7d']\n",
    "corr = df[numeric_cols].corr()\n",
    "\n",
    "plt.figure(figsize=(6,4))\n",
    "sns.heatmap(corr, annot=True, cmap='coolwarm', fmt='.2f')\n",
    "plt.title(\"Correlation Matrix\")\n",
    "plt.show()\n",
    "\n",
    "print(\"\\nObservations:\")\n",
    "print(\"- Check the sign and strength of correlations between weight and calorie intake, steps, etc.\")"
   ]
  },
  {
   "cell_type": "markdown",
   "id": "220fd5a5",
   "metadata": {},
   "source": [
    "<a id='q1'></a>\n",
    "## 5. Question 1: Calorie Intake & Weight Changes\n",
    "**Research Aim**: How does daily calorie intake correlate with fluctuations in body weight?\n",
    "\n",
    "### Hypothesis\n",
    "- **Null Hypothesis (H0)**: There is **no** significant correlation between daily calorie intake and weight.\n",
    "- **Alternative Hypothesis (H1)**: There **is** a significant correlation between daily calorie intake and weight.\n",
    "\n",
    "**Plan**:\n",
    "1. We’ll compute Pearson correlation between `Weight(kg)` and `Calorie(kcal)`.\n",
    "2. Perform a linear regression or simple scatter + regression line to visualize.\n",
    "3. Check if prior day’s calories relate to next day’s weight (`Calorie(kcal)` shifted by 1)."
   ]
  },
  {
   "cell_type": "code",
   "execution_count": 5,
   "id": "1708be66",
   "metadata": {},
   "outputs": [
    {
     "name": "stdout",
     "output_type": "stream",
     "text": [
      "Pearson correlation (Weight vs. Calories): 0.246\n"
     ]
    },
    {
     "data": {
      "image/png": "[encoded data removed]",
      "text/plain": [
       "<Figure size 700x500 with 1 Axes>"
      ]
     },
     "metadata": {},
     "output_type": "display_data"
    },
    {
     "name": "stdout",
     "output_type": "stream",
     "text": [
      "Pearson correlation (Today Weight vs. Previous-Day Calories): 0.323\n"
     ]
    }
   ],
   "source": [
    "# 5.1 Correlation between Calorie(kcal) & Weight(kg)\n",
    "corr_cal_weight = df['Calorie(kcal)'].corr(df['Weight(kg)'])\n",
    "print(f\"Pearson correlation (Weight vs. Calories): {corr_cal_weight:.3f}\")\n",
    "\n",
    "# 5.2 Scatter + regression\n",
    "import seaborn as sns\n",
    "plt.figure(figsize=(7,5))\n",
    "sns.regplot(x='Calorie(kcal)', y='Weight(kg)', data=df)\n",
    "plt.title(\"Weight(kg) vs. Calorie(kcal)\")\n",
    "plt.show()\n",
    "\n",
    "# 5.3 Check previous-day calories -> today's weight\n",
    "df['Calorie_PrevDay'] = df['Calorie(kcal)'].shift(1)\n",
    "corr_lead = df['Weight(kg)'].corr(df['Calorie_PrevDay'])\n",
    "print(f\"Pearson correlation (Today Weight vs. Previous-Day Calories): {corr_lead:.3f}\")"
   ]
  },
  {
   "cell_type": "markdown",
   "id": "d94ec0dd",
   "metadata": {},
   "source": [
    "**Interpretation**:\n",
    "- If the correlation is close to 0, it suggests no strong linear relationship.\n",
    "- If the correlation is positive (e.g., > 0.3), we might suspect higher calorie intake aligns with higher weight.\n",
    "- Checking how *previous day’s calories* relate to *today’s weight* can be more relevant for cause/effect timing.\n",
    "\n",
    "_If p-values or a more formal test is needed, we can use a linear regression or repeated measures approach. But for a quick check, correlation is enough._"
   ]
  },
  {
   "cell_type": "markdown",
   "id": "9ade1a9a",
   "metadata": {},
   "source": [
    "<a id='q2'></a>\n",
    "## 6. Question 2: Physical Activity & Weight Management\n",
    "**Research Aim**: Does increased physical activity (steps, gym visits) significantly contribute to weight loss or maintenance?\n",
    "\n",
    "### Hypothesis\n",
    "- **Null Hypothesis (H0)**: Weight is independent of daily step count/gym attendance.\n",
    "- **Alternative Hypothesis (H1)**: Weight is significantly different when steps are high vs. low, or gym vs. no-gym.\n",
    "\n",
    "**Plan**:\n",
    "1. Compare `Weight(kg)` on days with gym vs. days without (T-test or a simple group comparison).\n",
    "2. Correlation or regression for `Step_count` vs. `Weight(kg)`.\n",
    "3. Possibly do a t-test comparing `Weight(kg)` for high-step vs. low-step days (split by median)."
   ]
  },
  {
   "cell_type": "code",
   "execution_count": 6,
   "id": "acd18197",
   "metadata": {},
   "outputs": [
    {
     "name": "stdout",
     "output_type": "stream",
     "text": [
      "Gym vs. No-Gym:\n",
      "  T-stat: -0.624, p-value: 0.537\n",
      "\n",
      "Correlation (Steps vs. Weight): -0.091\n",
      "\n",
      "High-Step vs. Low-Step:\n",
      "  T-stat: -0.087, p-value: 0.932\n"
     ]
    }
   ],
   "source": [
    "# 6.1 Gym vs. Non-Gym Weight Comparison (T-test)\n",
    "\n",
    "gym_days = df[df['Gym_Bool'] == True]['Weight(kg)']\n",
    "no_gym_days = df[df['Gym_Bool'] == False]['Weight(kg)']\n",
    "t_stat, p_val = stats.ttest_ind(gym_days, no_gym_days, equal_var=False)\n",
    "print(\"Gym vs. No-Gym:\")\n",
    "print(f\"  T-stat: {t_stat:.3f}, p-value: {p_val:.3f}\")\n",
    "\n",
    "# 6.2 Correlation Step_count vs. Weight\n",
    "corr_steps_weight = df['Step_count'].corr(df['Weight(kg)'])\n",
    "print(f\"\\nCorrelation (Steps vs. Weight): {corr_steps_weight:.3f}\")\n",
    "\n",
    "# 6.3 High-Step vs. Low-Step Weight\n",
    "median_steps = df['Step_count'].median()\n",
    "df['Step_Level'] = np.where(df['Step_count'] >= median_steps, 'HighStep', 'LowStep')\n",
    "\n",
    "high_step_weight = df[df['Step_Level'] == 'HighStep']['Weight(kg)']\n",
    "low_step_weight = df[df['Step_Level'] == 'LowStep']['Weight(kg)']\n",
    "t_stat_2, p_val_2 = stats.ttest_ind(high_step_weight, low_step_weight, equal_var=False)\n",
    "print(\"\\nHigh-Step vs. Low-Step:\")\n",
    "print(f\"  T-stat: {t_stat_2:.3f}, p-value: {p_val_2:.3f}\")"
   ]
  },
  {
   "cell_type": "markdown",
   "id": "21326ee6",
   "metadata": {},
   "source": [
    "**Interpretation**:\n",
    "- If p-value < 0.05 (for example), we might reject the null hypothesis and say there is a significant difference.\n",
    "- The correlation sign for `Step_count` vs. `Weight(kg)` tells if higher steps align with lower/higher weight.\n",
    "- T-tests for Gym vs. No-Gym and High vs. Low step days provide insights into whether these groupings differ significantly."
   ]
  },
  {
   "cell_type": "markdown",
   "id": "316b3959",
   "metadata": {},
   "source": [
    "<a id='q3'></a>\n",
    "## 7. Question 3: Interplay Between Calorie Intake & Physical Activity\n",
    "**Research Aim**: How do calorie intake and step count interact to influence weight?\n",
    "\n",
    "### Hypothesis\n",
    "- **Null Hypothesis (H0)**: Weight is not better explained by combining *both* calories and steps than by either alone.\n",
    "- **Alternative Hypothesis (H1)**: A multiple regression (calories + steps) explains weight better than single-variable approaches.\n",
    "\n",
    "**Plan**:\n",
    "1. Perform a **multiple linear regression**: `Weight(kg)` ~ `Calorie(kcal)` + `Step_count`.\n",
    "2. Compare the model’s R-squared to a single-variable model.\n",
    "3. Inspect coefficients to see how each variable influences weight when controlling for the other."
   ]
  },
  {
   "cell_type": "code",
   "execution_count": 8,
   "id": "ba72af12",
   "metadata": {},
   "outputs": [
    {
     "name": "stdout",
     "output_type": "stream",
     "text": [
      "                            OLS Regression Results                            \n",
      "==============================================================================\n",
      "Dep. Variable:             Weight(kg)   R-squared:                       0.079\n",
      "Model:                            OLS   Adj. R-squared:                  0.033\n",
      "Method:                 Least Squares   F-statistic:                     1.717\n",
      "Date:                Fri, 10 Jan 2025   Prob (F-statistic):              0.193\n",
      "Time:                        11:22:32   Log-Likelihood:                -92.562\n",
      "No. Observations:                  43   AIC:                             191.1\n",
      "Df Residuals:                      40   BIC:                             196.4\n",
      "Df Model:                           2                                         \n",
      "Covariance Type:            nonrobust                                         \n",
      "=================================================================================\n",
      "                    coef    std err          t      P>|t|      [0.025      0.975]\n",
      "---------------------------------------------------------------------------------\n",
      "const            85.9184      4.099     20.960      0.000      77.634      94.203\n",
      "Calorie(kcal)     0.0020      0.001      1.753      0.087      -0.000       0.004\n",
      "Step_count       -0.0001      0.000     -0.898      0.374      -0.000       0.000\n",
      "==============================================================================\n",
      "Omnibus:                       28.645   Durbin-Watson:                   1.267\n",
      "Prob(Omnibus):                  0.000   Jarque-Bera (JB):               76.554\n",
      "Skew:                          -1.625   Prob(JB):                     2.38e-17\n",
      "Kurtosis:                       8.671   Cond. No.                     8.51e+04\n",
      "==============================================================================\n",
      "\n",
      "Notes:\n",
      "[1] Standard Errors assume that the covariance matrix of the errors is correctly specified.\n",
      "[2] The condition number is large, 8.51e+04. This might indicate that there are\n",
      "strong multicollinearity or other numerical problems.\n",
      "\n",
      "Interpretation:\n",
      "- Check how significant each variable is (p < 0.05?).\n",
      "- Note the R-squared: a higher value suggests better fit.\n"
     ]
    }
   ],
   "source": [
    "# 7.1 Multiple Linear Regression\n",
    "import statsmodels.api as sm\n",
    "\n",
    "# Prepare X and y\n",
    "X = df[['Calorie(kcal)', 'Step_count']]  # two predictors\n",
    "y = df['Weight(kg)']\n",
    "\n",
    "# Add constant (intercept)\n",
    "X = sm.add_constant(X)\n",
    "model = sm.OLS(y, X).fit()\n",
    "print(model.summary())\n",
    "\n",
    "# Observing R-squared, p-values for each coefficient, etc.\n",
    "print(\"\\nInterpretation:\")\n",
    "print(\"- Check how significant each variable is (p < 0.05?).\")\n",
    "print(\"- Note the R-squared: a higher value suggests better fit.\")"
   ]
  },
  {
   "cell_type": "markdown",
   "id": "562dc22e",
   "metadata": {},
   "source": [
    "**Interpretation**:\n",
    "- If both steps and calories have statistically significant coefficients (p < 0.05), it suggests each contributes to explaining weight variation.\n",
    "- If one or both are insignificant, that variable may not add much predictive power.\n",
    "- R-squared indicates how much variance in weight is explained by these two predictors.\n"
   ]
  },
  {
   "cell_type": "markdown",
   "id": "3f0edbe5",
   "metadata": {},
   "source": [
    "<a id='q4'></a>\n",
    "## 8. Question 4: Temporal Patterns & Trends\n",
    "**Research Aim**: Are there weekday/weekend differences, or other patterns over time?\n",
    "\n",
    "### Hypothesis (Example)\n",
    "- **Null Hypothesis (H0)**: There is **no** difference in `Weight(kg)` between weekdays and weekends.\n",
    "- **Alternative Hypothesis (H1)**: There **is** a difference (weekend vs. weekday).\n",
    "\n",
    "**Plan**:\n",
    "1. Compare average weight on weekend vs. weekday (t-test or groupby).\n",
    "2. Possibly look at step counts for weekend vs. weekday.\n"
   ]
  },
  {
   "cell_type": "code",
   "execution_count": 9,
   "id": "3270751d",
   "metadata": {},
   "outputs": [
    {
     "name": "stdout",
     "output_type": "stream",
     "text": [
      "Weekend vs. Weekday Weight:\n",
      "  T-stat: 0.534, p-value: 0.599\n"
     ]
    },
    {
     "data": {
      "image/png": "[encoded data removed]",
      "text/plain": [
       "<Figure size 600x500 with 1 Axes>"
      ]
     },
     "metadata": {},
     "output_type": "display_data"
    }
   ],
   "source": [
    "# 8.1 Weekend vs. Weekday Weight\n",
    "weekend_weight = df[df['Day_Type'] == 'Weekend']['Weight(kg)']\n",
    "weekday_weight = df[df['Day_Type'] == 'Weekday']['Weight(kg)']\n",
    "t_stat_3, p_val_3 = stats.ttest_ind(weekend_weight, weekday_weight, equal_var=False)\n",
    "print(\"Weekend vs. Weekday Weight:\")\n",
    "print(f\"  T-stat: {t_stat_3:.3f}, p-value: {p_val_3:.3f}\")\n",
    "\n",
    "# 8.2 Quick boxplot\n",
    "import matplotlib.pyplot as plt\n",
    "plt.figure(figsize=(6,5))\n",
    "sns.boxplot(x='Day_Type', y='Weight(kg)', data=df)\n",
    "plt.title(\"Weight Distribution: Weekend vs. Weekday\")\n",
    "plt.show()"
   ]
  },
  {
   "cell_type": "markdown",
   "id": "be637be0",
   "metadata": {},
   "source": [
    "**Interpretation**:\n",
    "- If p < 0.05, we might say there is a significant difference in average weight.\n",
    "- You could also compare step counts or calorie intake in the same manner.\n",
    "\n",
    "_If additional time-based patterns (e.g., a month’s worth of data) exist, you could do line plots over time to see trends. With a relatively small dataset, this is limited._"
   ]
  },
  {
   "cell_type": "markdown",
   "id": "a7994c62",
   "metadata": {},
   "source": [
    "<a id='conclusion'></a>\n",
    "## 9. Conclusion\n",
    "**Summary of Findings**\n",
    "- **Calorie Intake & Weight**: We explored correlation, possibly a scatter plot, to see if daily calories align with weight changes. If correlation is small or p > 0.05, the relationship may be weak.\n",
    "- **Physical Activity**: T-tests on `Gym_Bool` vs. Weight, and high-step vs. low-step, indicate whether more activity correlates with lower weight.\n",
    "- **Interplay**: A multiple regression can show if combining calories + steps better explains weight variation.\n",
    "- **Temporal Patterns**: We tested if `Day_Type` (weekend vs. weekday) influences weight or steps.\n",
    "\n",
    "**Next Steps**\n",
    "1. **Refine Feature Engineering**: Possibly incorporate sleep, water intake, or macros if available.\n",
    "2. **Longer Data Collection**: More data across months or years for stronger time-series analysis.\n",
    "3. **Advanced Modeling**: Use machine learning methods (e.g., random forests, gradient boosting) or multi-variate time-series to predict weight changes.\n",
    "\n",
    "_This concludes our data analysis notebook for the personal health dataset._"
   ]
  },
  {
   "cell_type": "code",
   "execution_count": null,
   "id": "bef1c832-4fb0-42fd-b757-fb3ff0dd38b3",
   "metadata": {},
   "outputs": [],
   "source": []
  }
 ],
 "metadata": {
  "kernelspec": {
   "display_name": "Python 3 (ipykernel)",
   "language": "python",
   "name": "python3"
  },
  "language_info": {
   "codemirror_mode": {
    "name": "ipython",
    "version": 3
   },
   "file_extension": ".py",
   "mimetype": "text/x-python",
   "name": "python",
   "nbconvert_exporter": "python",
   "pygments_lexer": "ipython3",
   "version": "3.10.11"
  }
 },
 "nbformat": 4,
 "nbformat_minor": 5
}
