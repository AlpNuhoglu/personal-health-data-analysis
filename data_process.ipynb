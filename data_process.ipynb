{
  "cells": [
    {
      "cell_type": "markdown",
      "metadata": {},
      "source": [
        "# Data Process Notebook\n",
        "This notebook focuses on preparing and processing the **Personal Health** dataset.\n",
        "\n",
        "## Table of Contents\n",
        "1. [Introduction](#introduction)\n",
        "2. [Imports](#imports)\n",
        "3. [Data Collection](#data-collection)\n",
        "4. [Data Cleaning](#data-cleaning)\n",
        "5. [Feature Engineering](#feature-engineering)\n",
        "6. [Saving Processed Data](#saving-data)\n",
        "7. [Conclusion](#conclusion)\n"
      ]
    },
    {
      "cell_type": "markdown",
      "metadata": {},
      "source": [
        "<a id='introduction'></a>\n",
        "## 1. Introduction\n",
        "We have a dataset with the following columns:\n",
        "- **Days**: (e.g., Monday, Tuesday, etc.)\n",
        "- **Weight(kg)**: Daily body weight in kilograms.\n",
        "- **Step_count**: Number of steps taken.\n",
        "- **Gym**: Indicates if a gym session occurred (\"Yes\" or blank).\n",
        "- **Calorie(kcal)**: Total daily calorie intake.\n",
        "\n",
        "Our **main research questions** revolve around:\n",
        "- The relationship between calorie intake and weight changes.\n",
        "- The impact of physical activity (steps, gym) on weight management.\n",
        "- Interactions between calorie intake, step count, and gym visits.\n",
        "\n",
        "Before advanced analysis, let's clean and prepare the data in this notebook."
      ]
    },
    {
      "cell_type": "markdown",
      "metadata": {},
      "source": [
        "<a id='imports'></a>\n",
        "## 2. Imports\n",
        "We import necessary libraries for data manipulation and basic checks."
      ]
    },
    {
      "cell_type": "code",
      "metadata": {
        "executionInfo": {}
      },
      "execution_count": null,
      "outputs": [],
      "source": [
        "import pandas as pd\n",
        "import numpy as np\n",
        "\n",
        "# (Optional) If you want to see more rows\n",
        "pd.set_option('display.max_rows', 100)\n",
        "pd.set_option('display.max_columns', 10)\n",
        "print(\"Libraries imported.\")"
      ]
    },
    {
      "cell_type": "markdown",
      "metadata": {},
      "source": [
        "<a id='data-collection'></a>\n",
        "## 3. Data Collection\n",
        "Assuming you have your dataset saved in a CSV file named **`my_personal_health_data.csv`** (or similar), we load it here."
      ]
    },
    {
      "cell_type": "code",
      "metadata": {},
      "execution_count": null,
      "outputs": [],
      "source": [
        "# Replace 'my_personal_health_data.csv' with your actual file name or path.\n",
        "csv_file = 'my_personal_health_data.csv'\n",
        "\n",
        "df = pd.read_csv(csv_file)\n",
        "print(\"First 5 rows of the dataset:\")\n",
        "display(df.head())\n",
        "\n",
        "print(\"Dataset shape:\", df.shape)\n",
        "print(\"\\nColumn Names:\", df.columns.tolist())"
      ]
    },
    {
      "cell_type": "markdown",
      "metadata": {},
      "source": [
        "<a id='data-cleaning'></a>\n",
        "## 4. Data Cleaning\n",
        "Here, we will:\n",
        "1. Ensure correct data types.\n",
        "2. Check and handle missing values.\n",
        "3. Address any obvious outliers (optional)."
      ]
    },
    {
      "cell_type": "code",
      "metadata": {},
      "execution_count": null,
      "outputs": [],
      "source": [
        "# 4.1 Data Types\n",
        "print(\"\\nData Types before conversions:\")\n",
        "display(df.dtypes)\n",
        "\n",
        "# Convert numeric columns to float or int where appropriate\n",
        "df['Weight(kg)'] = pd.to_numeric(df['Weight(kg)'], errors='coerce')\n",
        "df['Step_count'] = pd.to_numeric(df['Step_count'], errors='coerce')\n",
        "df['Calorie(kcal)'] = pd.to_numeric(df['Calorie(kcal)'], errors='coerce')\n",
        "\n",
        "# If Gym is blank, replace with 'No'\n",
        "df['Gym'] = df['Gym'].fillna('No')\n",
        "\n",
        "# 4.2 Check Missing Values\n",
        "missing_counts = df.isnull().sum()\n",
        "print(\"\\nMissing Values after type conversion:\\n\", missing_counts)\n",
        "\n",
        "# Example: fill numeric missing with mean (if needed)\n",
        "df['Weight(kg)'] = df['Weight(kg)'].fillna(df['Weight(kg)'].mean())\n",
        "df['Step_count'] = df['Step_count'].fillna(df['Step_count'].mean())\n",
        "df['Calorie(kcal)'] = df['Calorie(kcal)'].fillna(df['Calorie(kcal)'].mean())\n",
        "\n",
        "# Re-check missing\n",
        "print(\"\\nMissing Values after filling:\\n\", df.isnull().sum())\n",
        "\n",
        "# 4.3 (Optional) Outlier Detection\n",
        "# A simple approach to remove or flag outliers could be IQR-based or domain-based.\n",
        "# We won't remove them here unless we see extreme values.\n",
        "print(\"\\nStats Overview:\")\n",
        "display(df.describe())\n",
        "\n",
        "print(\"Data cleaning complete.\")"
      ]
    },
    {
      "cell_type": "markdown",
      "metadata": {},
      "source": [
        "<a id='feature-engineering'></a>\n",
        "## 5. Feature Engineering\n",
        "We can create new columns to help with analysis, such as:\n",
        "- **Gym_Bool**: Convert \"Yes\" to `True`, else `False`.\n",
        "- **Day_Type**: Classify days as `Weekend` vs. `Weekday`.\n",
        "- **Weight_Change**: Difference in weight from previous day.\n"
      ]
    },
    {
      "cell_type": "code",
      "metadata": {},
      "execution_count": null,
      "outputs": [],
      "source": [
        "# 5.1 Gym_Bool\n",
        "df['Gym_Bool'] = df['Gym'].apply(lambda x: True if x == 'Yes' else False)\n",
        "\n",
        "# 5.2 Day_Type (Weekend vs. Weekday)\n",
        "weekend_days = ['Saturday','Sunday']\n",
        "df['Day_Type'] = df['Days'].apply(lambda d: 'Weekend' if d in weekend_days else 'Weekday')\n",
        "\n",
        "# 5.3 Weight_Change\n",
        "df['Weight_Change'] = df['Weight(kg)'].diff().fillna(0)\n",
        "\n",
        "# Check new columns\n",
        "display(df.head(10))"
      ]
    },
    {
      "cell_type": "markdown",
      "metadata": {},
      "source": [
        "<a id='saving-data'></a>\n",
        "## 6. Saving Processed Data\n",
        "After cleaning and feature engineering, we can save this final version of the dataset for further analysis."
      ]
    },
    {
      "cell_type": "code",
      "metadata": {},
      "execution_count": null,
      "outputs": [],
      "source": [
        "# Save the processed dataset to a new CSV\n",
        "processed_file = 'my_personal_health_data_processed.csv'\n",
        "df.to_csv(processed_file, index=False)\n",
        "print(f\"Processed data saved as: {processed_file}\")"
      ]
    },
    {
      "cell_type": "markdown",
      "metadata": {},
      "source": [
        "<a id='conclusion'></a>\n",
        "## 7. Conclusion\n",
        "In this notebook:\n",
        "1. We **loaded** the raw dataset.\n",
        "2. We performed **data cleaning** (fixed missing values, standardized data types).\n",
        "3. We created **new features** like `Gym_Bool`, `Day_Type`, and `Weight_Change`.\n",
        "4. We **saved** the final processed data for further analysis (e.g., in `data_analysis.ipynb`).\n",
        "\n",
        "This completes the data processing phase for our personal health project!"
      ]
    }
  ],
  "metadata": {
    "kernelspec": {
      "display_name": "Python 3",
      "language": "python",
      "name": "python3"
    },
    "language_info": {
      "name": "python",
      "version": "3.9"
    }
  },
  "nbformat": 4,
  "nbformat_minor": 5
}