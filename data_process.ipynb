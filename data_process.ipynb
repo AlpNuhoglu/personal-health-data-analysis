{
  "metadata": {
    "kernelspec": {
      "name": "python",
      "display_name": "Python (Pyodide)",
      "language": "python"
    },
    "language_info": {
      "codemirror_mode": {
        "name": "python",
        "version": 3
      },
      "file_extension": ".py",
      "mimetype": "text/x-python",
      "name": "python",
      "nbconvert_exporter": "python",
      "pygments_lexer": "ipython3",
      "version": "3.8"
    }
  },
  "nbformat_minor": 5,
  "nbformat": 4,
  "cells": [
    {
      "id": "066515ce-8dcd-469b-b306-cbd112c8ed95",
      "cell_type": "markdown",
      "source": "# Data Process Notebook\nThis notebook focuses on preparing and processing the **Personal Health** dataset.\n\n## Table of Contents\n1. [Introduction](#introduction)\n2. [Imports](#imports)\n3. [Data Collection](#data-collection)\n4. [Data Cleaning](#data-cleaning)\n5. [Feature Engineering](#feature-engineering)\n6. [Saving Processed Data](#saving-data)\n7. [Conclusion](#conclusion)\n",
      "metadata": {}
    },
    {
      "id": "d7f8e4dd-a24d-4de7-a394-edf1f82b02d5",
      "cell_type": "markdown",
      "source": "<a id='introduction'></a>\n## 1. Introduction\nWe have a dataset with the following columns:\n- **Days**: (e.g., Monday, Tuesday, etc.)\n- **Weight(kg)**: Daily body weight in kilograms.\n- **Step_count**: Number of steps taken.\n- **Gym**: Indicates if a gym session occurred (\"Yes\" or blank).\n- **Calorie(kcal)**: Total daily calorie intake.\n\nOur **main research questions** revolve around:\n- The relationship between calorie intake and weight changes.\n- The impact of physical activity (steps, gym) on weight management.\n- Interactions between calorie intake, step count, and gym visits.\n\nBefore advanced analysis, let's clean and prepare the data in this notebook.",
      "metadata": {}
    },
    {
      "id": "1324bb36-9d5f-48b2-8b67-749bb20c1c0b",
      "cell_type": "markdown",
      "source": "<a id='imports'></a>\n## 2. Imports\nWe import necessary libraries for data manipulation and basic checks.",
      "metadata": {}
    },
    {
      "id": "64ed19e1-eb4a-425b-8f02-2093726be084",
      "cell_type": "code",
      "source": "import pandas as pd\nimport numpy as np\n\n# (Optional) If you want to see more rows\npd.set_option('display.max_rows', 100)\npd.set_option('display.max_columns', 10)\nprint(\"Libraries imported.\")",
      "metadata": {
        "executionInfo": {},
        "trusted": true
      },
      "outputs": [
        {
          "name": "stderr",
          "text": "<ipython-input-2-2f83c06234a4>:1: DeprecationWarning: \nPyarrow will become a required dependency of pandas in the next major release of pandas (pandas 3.0),\n(to allow more performant data types, such as the Arrow string type, and better interoperability with other libraries)\nbut was not found to be installed on your system.\nIf this would cause problems for you,\nplease provide us feedback at https://github.com/pandas-dev/pandas/issues/54466\n        \n  import pandas as pd\n",
          "output_type": "stream"
        },
        {
          "name": "stdout",
          "text": "Libraries imported.\n",
          "output_type": "stream"
        }
      ],
      "execution_count": 2
    },
    {
      "id": "defd9e05-eee6-4281-ae6c-493734e57b90",
      "cell_type": "markdown",
      "source": "<a id='data-collection'></a>\n## 3. Data Collection\nAssuming you have your dataset saved in a CSV file named **`my_personal_health_data.csv`** (or similar), we load it here.",
      "metadata": {}
    },
    {
      "id": "6eab1cd2-306c-41c2-8d57-ba0c13b03f80",
      "cell_type": "code",
      "source": "# Replace 'my_personal_health_data.csv' with your actual file name or path.\ncsv_file = 'my_personal_health_data.csv'\n\ndf = pd.read_csv(csv_file, sep=';')\n\ndf.drop(df.columns[-1], axis=1, inplace=True)\n\ndf[\"Step_count\"] = df[\"Step_count\"].fillna(0)          # Replace NaN with 0\ndf[\"Step_count\"] = df[\"Step_count\"].astype(int)        # Convert float -> int\n\ndf[\"Calorie(kcal)\"] = df[\"Calorie(kcal)\"].fillna(0)          # Replace NaN with 0\ndf[\"Calorie(kcal)\"] = df[\"Calorie(kcal)\"].astype(int)        # Convert float -> int\n\n\nprint(\"First 5 rows of the dataset:\")\n\ndisplay(df.head())\n\nprint(\"Dataset shape:\", df.shape)\nprint(\"\\nColumn Names:\", df.columns.tolist())",
      "metadata": {
        "trusted": true
      },
      "outputs": [
        {
          "name": "stdout",
          "text": "First 5 rows of the dataset:\n",
          "output_type": "stream"
        },
        {
          "output_type": "display_data",
          "data": {
            "text/plain": "        Days  Weight(kg)  Step_count  Gym  Calorie(kcal)\n0   Thursday        89.5        4500  Yes           3410\n1     Sunday        89.3        3254  Yes           3410\n2     Monday        91.2        4149  NaN           3410\n3    Tuesday        90.8        7342  Yes           3410\n4  Wednesday        90.7        7784  Yes           3410",
            "text/html": "<div>\n<style scoped>\n    .dataframe tbody tr th:only-of-type {\n        vertical-align: middle;\n    }\n\n    .dataframe tbody tr th {\n        vertical-align: top;\n    }\n\n    .dataframe thead th {\n        text-align: right;\n    }\n</style>\n<table border=\"1\" class=\"dataframe\">\n  <thead>\n    <tr style=\"text-align: right;\">\n      <th></th>\n      <th>Days</th>\n      <th>Weight(kg)</th>\n      <th>Step_count</th>\n      <th>Gym</th>\n      <th>Calorie(kcal)</th>\n    </tr>\n  </thead>\n  <tbody>\n    <tr>\n      <th>0</th>\n      <td>Thursday</td>\n      <td>89.5</td>\n      <td>4500</td>\n      <td>Yes</td>\n      <td>3410</td>\n    </tr>\n    <tr>\n      <th>1</th>\n      <td>Sunday</td>\n      <td>89.3</td>\n      <td>3254</td>\n      <td>Yes</td>\n      <td>3410</td>\n    </tr>\n    <tr>\n      <th>2</th>\n      <td>Monday</td>\n      <td>91.2</td>\n      <td>4149</td>\n      <td>NaN</td>\n      <td>3410</td>\n    </tr>\n    <tr>\n      <th>3</th>\n      <td>Tuesday</td>\n      <td>90.8</td>\n      <td>7342</td>\n      <td>Yes</td>\n      <td>3410</td>\n    </tr>\n    <tr>\n      <th>4</th>\n      <td>Wednesday</td>\n      <td>90.7</td>\n      <td>7784</td>\n      <td>Yes</td>\n      <td>3410</td>\n    </tr>\n  </tbody>\n</table>\n</div>"
          },
          "metadata": {}
        },
        {
          "name": "stdout",
          "text": "Dataset shape: (44, 5)\n\nColumn Names: ['Days', 'Weight(kg)', 'Step_count', 'Gym', 'Calorie(kcal)']\n",
          "output_type": "stream"
        }
      ],
      "execution_count": 5
    },
    {
      "id": "a88c2dad-2172-4491-ae2b-35f5f381616c",
      "cell_type": "markdown",
      "source": "<a id='data-cleaning'></a>\n## 4. Data Cleaning\nHere, we will:\n1. Ensure correct data types.\n2. Check and handle missing values.\n3. Address any obvious outliers (optional).",
      "metadata": {}
    },
    {
      "id": "02a071e0-f0b2-4710-a969-b5f97759fbc7",
      "cell_type": "code",
      "source": "# 4.1 Data Types\nprint(\"\\nData Types before conversions:\")\ndisplay(df.dtypes)\n\n# Convert numeric columns to float or int where appropriate\ndf['Weight(kg)'] = pd.to_numeric(df['Weight(kg)'], errors='coerce')\ndf['Step_count'] = pd.to_numeric(df['Step_count'], errors='coerce')\ndf['Calorie(kcal)'] = pd.to_numeric(df['Calorie(kcal)'], errors='coerce')\n\n# If Gym is blank, replace with 'No'\ndf['Gym'] = df['Gym'].fillna('No')\n\n# 4.2 Check Missing Values\nmissing_counts = df.isnull().sum()\nprint(\"\\nMissing Values after type conversion:\\n\", missing_counts)\n\n# Example: fill numeric missing with mean (if needed)\ndf['Weight(kg)'] = df['Weight(kg)'].fillna(df['Weight(kg)'].mean())\ndf['Step_count'] = df['Step_count'].fillna(df['Step_count'].mean())\ndf['Calorie(kcal)'] = df['Calorie(kcal)'].fillna(df['Calorie(kcal)'].mean())\n\n# Re-check missing\nprint(\"\\nMissing Values after filling:\\n\", df.isnull().sum())\n\n# 4.3 (Optional) Outlier Detection\n# A simple approach to remove or flag outliers could be IQR-based or domain-based.\n# We won't remove them here unless we see extreme values.\nprint(\"\\nStats Overview:\")\ndisplay(df.describe())\n\nprint(\"Data cleaning complete.\")",
      "metadata": {
        "trusted": true
      },
      "outputs": [
        {
          "name": "stdout",
          "text": "\nData Types before conversions:\n",
          "output_type": "stream"
        },
        {
          "output_type": "display_data",
          "data": {
            "text/plain": "Days              object\nWeight(kg)       float64\nStep_count         int32\nGym               object\nCalorie(kcal)      int32\ndtype: object"
          },
          "metadata": {}
        },
        {
          "name": "stdout",
          "text": "\nMissing Values after type conversion:\n Days             1\nWeight(kg)       1\nStep_count       0\nGym              0\nCalorie(kcal)    0\ndtype: int64\n\nMissing Values after filling:\n Days             1\nWeight(kg)       0\nStep_count       0\nGym              0\nCalorie(kcal)    0\ndtype: int64\n\nStats Overview:\n",
          "output_type": "stream"
        },
        {
          "output_type": "display_data",
          "data": {
            "text/plain": "       Weight(kg)    Step_count  Calorie(kcal)\ncount   44.000000     44.000000      44.000000\nmean    92.579070   5189.409091    3607.159091\nstd      2.170260   2710.946186     630.982436\nmin     83.900000      0.000000       0.000000\n25%     91.275000   2547.000000    3660.000000\n50%     92.589535   4502.500000    3660.000000\n75%     94.175000   7563.000000    3660.000000\nmax     95.700000  10136.000000    4875.000000",
            "text/html": "<div>\n<style scoped>\n    .dataframe tbody tr th:only-of-type {\n        vertical-align: middle;\n    }\n\n    .dataframe tbody tr th {\n        vertical-align: top;\n    }\n\n    .dataframe thead th {\n        text-align: right;\n    }\n</style>\n<table border=\"1\" class=\"dataframe\">\n  <thead>\n    <tr style=\"text-align: right;\">\n      <th></th>\n      <th>Weight(kg)</th>\n      <th>Step_count</th>\n      <th>Calorie(kcal)</th>\n    </tr>\n  </thead>\n  <tbody>\n    <tr>\n      <th>count</th>\n      <td>44.000000</td>\n      <td>44.000000</td>\n      <td>44.000000</td>\n    </tr>\n    <tr>\n      <th>mean</th>\n      <td>92.579070</td>\n      <td>5189.409091</td>\n      <td>3607.159091</td>\n    </tr>\n    <tr>\n      <th>std</th>\n      <td>2.170260</td>\n      <td>2710.946186</td>\n      <td>630.982436</td>\n    </tr>\n    <tr>\n      <th>min</th>\n      <td>83.900000</td>\n      <td>0.000000</td>\n      <td>0.000000</td>\n    </tr>\n    <tr>\n      <th>25%</th>\n      <td>91.275000</td>\n      <td>2547.000000</td>\n      <td>3660.000000</td>\n    </tr>\n    <tr>\n      <th>50%</th>\n      <td>92.589535</td>\n      <td>4502.500000</td>\n      <td>3660.000000</td>\n    </tr>\n    <tr>\n      <th>75%</th>\n      <td>94.175000</td>\n      <td>7563.000000</td>\n      <td>3660.000000</td>\n    </tr>\n    <tr>\n      <th>max</th>\n      <td>95.700000</td>\n      <td>10136.000000</td>\n      <td>4875.000000</td>\n    </tr>\n  </tbody>\n</table>\n</div>"
          },
          "metadata": {}
        },
        {
          "name": "stdout",
          "text": "Data cleaning complete.\n",
          "output_type": "stream"
        }
      ],
      "execution_count": 6
    },
    {
      "id": "3fc8cf44-8bf5-4788-86d9-142a46e38ea0",
      "cell_type": "markdown",
      "source": "<a id='feature-engineering'></a>\n## 5. Feature Engineering\nWe can create new columns to help with analysis, such as:\n- **Gym_Bool**: Convert \"Yes\" to `True`, else `False`.\n- **Day_Type**: Classify days as `Weekend` vs. `Weekday`.\n- **Weight_Change**: Difference in weight from previous day.\n",
      "metadata": {}
    },
    {
      "id": "ab606b7e-8be3-4229-acd0-07174524516b",
      "cell_type": "code",
      "source": "# 5.1 Gym_Bool\ndf['Gym_Bool'] = df['Gym'].apply(lambda x: True if x == 'Yes' else False)\n\n# 5.2 Day_Type (Weekend vs. Weekday)\nweekend_days = ['Saturday','Sunday']\ndf['Day_Type'] = df['Days'].apply(lambda d: 'Weekend' if d in weekend_days else 'Weekday')\n\n# 5.3 Weight_Change\ndf['Weight_Change'] = df['Weight(kg)'].diff().fillna(0)\n\n# Check new columns\ndisplay(df.head(10))",
      "metadata": {
        "trusted": true
      },
      "outputs": [
        {
          "output_type": "display_data",
          "data": {
            "text/plain": "        Days  Weight(kg)  Step_count  Gym  Calorie(kcal)  Gym_Bool Day_Type  \\\n0   Thursday        89.5        4500  Yes           3410      True  Weekday   \n1     Sunday        89.3        3254  Yes           3410      True  Weekend   \n2     Monday        91.2        4149   No           3410     False  Weekday   \n3    Tuesday        90.8        7342  Yes           3410      True  Weekday   \n4  Wednesday        90.7        7784  Yes           3410      True  Weekday   \n5   Thursday        90.9        7213  Yes           3410      True  Weekday   \n6     Friday        90.6        7644   No           3410     False  Weekday   \n7   Saturday        90.3        4131  Yes           3410      True  Weekend   \n8     Sunday        90.9        2718  Yes           3410      True  Weekend   \n9     Monday        91.3        6421   No           3660     False  Weekday   \n\n   Weight_Change  \n0            0.0  \n1           -0.2  \n2            1.9  \n3           -0.4  \n4           -0.1  \n5            0.2  \n6           -0.3  \n7           -0.3  \n8            0.6  \n9            0.4  ",
            "text/html": "<div>\n<style scoped>\n    .dataframe tbody tr th:only-of-type {\n        vertical-align: middle;\n    }\n\n    .dataframe tbody tr th {\n        vertical-align: top;\n    }\n\n    .dataframe thead th {\n        text-align: right;\n    }\n</style>\n<table border=\"1\" class=\"dataframe\">\n  <thead>\n    <tr style=\"text-align: right;\">\n      <th></th>\n      <th>Days</th>\n      <th>Weight(kg)</th>\n      <th>Step_count</th>\n      <th>Gym</th>\n      <th>Calorie(kcal)</th>\n      <th>Gym_Bool</th>\n      <th>Day_Type</th>\n      <th>Weight_Change</th>\n    </tr>\n  </thead>\n  <tbody>\n    <tr>\n      <th>0</th>\n      <td>Thursday</td>\n      <td>89.5</td>\n      <td>4500</td>\n      <td>Yes</td>\n      <td>3410</td>\n      <td>True</td>\n      <td>Weekday</td>\n      <td>0.0</td>\n    </tr>\n    <tr>\n      <th>1</th>\n      <td>Sunday</td>\n      <td>89.3</td>\n      <td>3254</td>\n      <td>Yes</td>\n      <td>3410</td>\n      <td>True</td>\n      <td>Weekend</td>\n      <td>-0.2</td>\n    </tr>\n    <tr>\n      <th>2</th>\n      <td>Monday</td>\n      <td>91.2</td>\n      <td>4149</td>\n      <td>No</td>\n      <td>3410</td>\n      <td>False</td>\n      <td>Weekday</td>\n      <td>1.9</td>\n    </tr>\n    <tr>\n      <th>3</th>\n      <td>Tuesday</td>\n      <td>90.8</td>\n      <td>7342</td>\n      <td>Yes</td>\n      <td>3410</td>\n      <td>True</td>\n      <td>Weekday</td>\n      <td>-0.4</td>\n    </tr>\n    <tr>\n      <th>4</th>\n      <td>Wednesday</td>\n      <td>90.7</td>\n      <td>7784</td>\n      <td>Yes</td>\n      <td>3410</td>\n      <td>True</td>\n      <td>Weekday</td>\n      <td>-0.1</td>\n    </tr>\n    <tr>\n      <th>5</th>\n      <td>Thursday</td>\n      <td>90.9</td>\n      <td>7213</td>\n      <td>Yes</td>\n      <td>3410</td>\n      <td>True</td>\n      <td>Weekday</td>\n      <td>0.2</td>\n    </tr>\n    <tr>\n      <th>6</th>\n      <td>Friday</td>\n      <td>90.6</td>\n      <td>7644</td>\n      <td>No</td>\n      <td>3410</td>\n      <td>False</td>\n      <td>Weekday</td>\n      <td>-0.3</td>\n    </tr>\n    <tr>\n      <th>7</th>\n      <td>Saturday</td>\n      <td>90.3</td>\n      <td>4131</td>\n      <td>Yes</td>\n      <td>3410</td>\n      <td>True</td>\n      <td>Weekend</td>\n      <td>-0.3</td>\n    </tr>\n    <tr>\n      <th>8</th>\n      <td>Sunday</td>\n      <td>90.9</td>\n      <td>2718</td>\n      <td>Yes</td>\n      <td>3410</td>\n      <td>True</td>\n      <td>Weekend</td>\n      <td>0.6</td>\n    </tr>\n    <tr>\n      <th>9</th>\n      <td>Monday</td>\n      <td>91.3</td>\n      <td>6421</td>\n      <td>No</td>\n      <td>3660</td>\n      <td>False</td>\n      <td>Weekday</td>\n      <td>0.4</td>\n    </tr>\n  </tbody>\n</table>\n</div>"
          },
          "metadata": {}
        }
      ],
      "execution_count": 7
    },
    {
      "id": "00a652b6-b1fe-472e-9394-bbdccc971b03",
      "cell_type": "markdown",
      "source": "<a id='saving-data'></a>\n## 6. Saving Processed Data\nAfter cleaning and feature engineering, we can save this final version of the dataset for further analysis.",
      "metadata": {}
    },
    {
      "id": "f7408811-5694-4b6b-912f-965a5f29c75c",
      "cell_type": "code",
      "source": "# Save the processed dataset to a new CSV\nprocessed_file = 'my_personal_health_data_processed.csv'\ndf.to_csv(processed_file, index=False)\nprint(f\"Processed data saved as: {processed_file}\")",
      "metadata": {
        "trusted": true
      },
      "outputs": [
        {
          "name": "stdout",
          "text": "Processed data saved as: my_personal_health_data_processed.csv\n",
          "output_type": "stream"
        }
      ],
      "execution_count": 9
    },
    {
      "id": "818fb2de-ab51-4950-9b1c-e2a08a8688dc",
      "cell_type": "markdown",
      "source": "<a id='conclusion'></a>\n## 7. Conclusion\nIn this notebook:\n1. We **loaded** the raw dataset.\n2. We performed **data cleaning** (fixed missing values, standardized data types).\n3. We created **new features** like `Gym_Bool`, `Day_Type`, and `Weight_Change`.\n4. We **saved** the final processed data for further analysis (e.g., in `data_analysis.ipynb`).\n\nThis completes the data processing phase for our personal health project!",
      "metadata": {}
    }
  ]
}