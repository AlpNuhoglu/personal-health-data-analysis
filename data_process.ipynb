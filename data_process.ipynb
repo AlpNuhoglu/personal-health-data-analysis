{
  "metadata": {
    "kernelspec": {
      "name": "python",
      "display_name": "Python (Pyodide)",
      "language": "python"
    },
    "language_info": {
      "codemirror_mode": {
        "name": "python",
        "version": 3
      },
      "file_extension": ".py",
      "mimetype": "text/x-python",
      "name": "python",
      "nbconvert_exporter": "python",
      "pygments_lexer": "ipython3",
      "version": "3.8"
    }
  },
  "nbformat_minor": 5,
  "nbformat": 4,
  "cells": [
    {
      "id": "ascii-art-intro",
      "cell_type": "markdown",
      "source": "```\n  ____        _        ____                                   _   _       _   _      \n |  _ \\  __ _| |_ __ _/ ___|  ___ _ ____   _____ _ __ ___  ___| |_| | ___ | |_(_) ___ \n | | | |/ _` | __/ _` \\___ \\ / _ \\ '__\\ \\ / / _ \\ '__/ __|/ _ \\ __| |/ _ \\| __| |/ __|\n | |_| | (_| | || (_| |___) |  __/ |   \\ V /  __/ |  \\__ \\  __/ |_| | (_) | |_| | (__ \n |____/ \\__,_|\\__\\__,_|____/ \\___|_|    \\_/ \\___|_|  |___/\\___|\\__|_|\\___/ \\__|_|\\___|\n```",
      "metadata": {}
    },
    {
      "id": "fancy-header",
      "cell_type": "markdown",
      "source": "# Data Process Notebook\nThis notebook **focuses on preparing and processing** our **Personal Health** dataset.\n\n## Table of Contents\n1. [Introduction](#introduction)\n2. [Imports](#imports)\n3. [Data Collection](#data-collection)\n4. [Data Cleaning](#data-cleaning)\n5. [Feature Engineering](#feature-engineering)\n6. [Saving Processed Data](#saving-data)\n7. [Conclusion](#conclusion)\n",
      "metadata": {}
    },
    {
      "id": "introduction",
      "cell_type": "markdown",
      "source": "<a id='introduction'></a>\n## 1. Introduction\nWe have a dataset with the following **columns**:\n- **Days**: (e.g., Monday, Tuesday, etc.)\n- **Weight(kg)**: Daily body weight in kilograms.\n- **Step_count**: Number of steps taken.\n- **Gym**: Indicates if a gym session occurred (\"Yes\" or blank).\n- **Calorie(kcal)**: Total daily calorie intake.\n\n### Our Main Research Questions\n1. Relationship between **calorie intake** and **weight changes**.\n2. Impact of **physical activity** (steps, gym) on weight management.\n3. Interactions between **calorie intake**, **step count**, and **gym visits**.\n\nBefore advanced analysis, let's **clean** and **prepare** the data in this notebook!",
      "metadata": {}
    },
    {
      "id": "imports",
      "cell_type": "markdown",
      "source": "<a id='imports'></a>\n## 2. Imports\nWe import necessary libraries for **data manipulation** and **basic checks**.\n\n_In the future, we may add additional imports for advanced outlier detection or data validation._",
      "metadata": {}
    },
    {
      "id": "import-code",
      "cell_type": "code",
      "source": "import warnings\n\n# Suppress DeprecationWarnings (e.g., about pyarrow)\nwarnings.filterwarnings('ignore', category=DeprecationWarning)\n\nimport pandas as pd\nimport numpy as np\n\n\nprint(\"Libraries imported successfully!\")",
      "metadata": {
        "trusted": true
      },
      "outputs": [
        {
          "name": "stdout",
          "text": "Libraries imported successfully!\n",
          "output_type": "stream"
        }
      ],
      "execution_count": 1
    },
    {
      "id": "data-collection",
      "cell_type": "markdown",
      "source": "<a id='data-collection'></a>\n## 3. Data Collection\nAssuming you have your dataset saved in a CSV file named **`my_personal_health_data.csv`** (or similar), we **load** it here.\n\nWe'll also apply a few immediate cleanup actions:\n- Use `sep=';'` if it's semicolon-delimited.\n- Drop any last column if it contains extraneous data.\n- Cast certain columns to **int** if they should not have decimals.\n",
      "metadata": {}
    },
    {
      "id": "data-collection-code",
      "cell_type": "code",
      "source": "# ------------------------------------------------------------------------------\n# Data Collection\n# ------------------------------------------------------------------------------\n\ncsv_file = 'my_personal_health_data.csv'  # Replace with your actual CSV name\n# If your dataset uses commas, remove 'sep=\";\"'. If it uses semicolons, keep it.\n\ndf = pd.read_csv(csv_file, sep=';')\nprint(\"Raw Data loaded!\\n\")\n\n# Example: Drop the last column if it is unnamed or empty\nif 'Unnamed: 5' in df.columns:\n    df.drop(columns=['Unnamed: 5'], inplace=True)\nelif df.columns[-1].startswith('Unnamed'):\n    df.drop(df.columns[-1], axis=1, inplace=True)\n\n# Convert Step_count + Calorie(kcal) to integer, if that’s correct for your data\ndf[\"Step_count\"] = df[\"Step_count\"].fillna(0).astype(int)\ndf[\"Calorie(kcal)\"] = df[\"Calorie(kcal)\"].fillna(0).astype(int)\n\nprint(\"First 5 rows of the dataset:\")\ndisplay(df.head())\n\nprint(\"Dataset shape:\", df.shape)\nprint(\"\\nColumn Names:\", df.columns.tolist())",
      "metadata": {
        "trusted": true
      },
      "outputs": [
        {
          "name": "stdout",
          "text": "Raw Data loaded!\n\nFirst 5 rows of the dataset:\n",
          "output_type": "stream"
        },
        {
          "output_type": "display_data",
          "data": {
            "text/plain": "        Days  Weight(kg)  Step_count  Gym  Calorie(kcal)\n0   Thursday        89.5        4500  Yes           3410\n1     Sunday        89.3        3254  Yes           3410\n2     Monday        91.2        4149   No           3410\n3    Tuesday        90.8        7342  Yes           3410\n4  Wednesday        90.7        7784  Yes           3410",
            "text/html": "<div>\n<style scoped>\n    .dataframe tbody tr th:only-of-type {\n        vertical-align: middle;\n    }\n\n    .dataframe tbody tr th {\n        vertical-align: top;\n    }\n\n    .dataframe thead th {\n        text-align: right;\n    }\n</style>\n<table border=\"1\" class=\"dataframe\">\n  <thead>\n    <tr style=\"text-align: right;\">\n      <th></th>\n      <th>Days</th>\n      <th>Weight(kg)</th>\n      <th>Step_count</th>\n      <th>Gym</th>\n      <th>Calorie(kcal)</th>\n    </tr>\n  </thead>\n  <tbody>\n    <tr>\n      <th>0</th>\n      <td>Thursday</td>\n      <td>89.5</td>\n      <td>4500</td>\n      <td>Yes</td>\n      <td>3410</td>\n    </tr>\n    <tr>\n      <th>1</th>\n      <td>Sunday</td>\n      <td>89.3</td>\n      <td>3254</td>\n      <td>Yes</td>\n      <td>3410</td>\n    </tr>\n    <tr>\n      <th>2</th>\n      <td>Monday</td>\n      <td>91.2</td>\n      <td>4149</td>\n      <td>No</td>\n      <td>3410</td>\n    </tr>\n    <tr>\n      <th>3</th>\n      <td>Tuesday</td>\n      <td>90.8</td>\n      <td>7342</td>\n      <td>Yes</td>\n      <td>3410</td>\n    </tr>\n    <tr>\n      <th>4</th>\n      <td>Wednesday</td>\n      <td>90.7</td>\n      <td>7784</td>\n      <td>Yes</td>\n      <td>3410</td>\n    </tr>\n  </tbody>\n</table>\n</div>"
          },
          "metadata": {}
        },
        {
          "name": "stdout",
          "text": "Dataset shape: (43, 5)\n\nColumn Names: ['Days', 'Weight(kg)', 'Step_count', 'Gym', 'Calorie(kcal)']\n",
          "output_type": "stream"
        }
      ],
      "execution_count": 2
    },
    {
      "id": "data-cleaning",
      "cell_type": "markdown",
      "source": "<a id='data-cleaning'></a>\n## 4. Data Cleaning\nHere, we will:\n1. Check **data types**.\n2. Identify and handle **missing values**.\n3. (Optionally) detect or remove **outliers**.\n\n_Note: We are focusing on data validity, not yet analyzing patterns._",
      "metadata": {}
    },
    {
      "id": "data-cleaning-code",
      "cell_type": "code",
      "source": "# ------------------------------------------------------------------------------\n# Data Cleaning Steps\n# ------------------------------------------------------------------------------\nprint(\"\\nData Types before conversions:\")\ndisplay(df.dtypes)\n\n# Convert numeric columns to numeric with errors='coerce' to handle weird strings\ndf['Weight(kg)'] = pd.to_numeric(df['Weight(kg)'], errors='coerce')\ndf['Step_count'] = pd.to_numeric(df['Step_count'], errors='coerce')\ndf['Calorie(kcal)'] = pd.to_numeric(df['Calorie(kcal)'], errors='coerce')\n\n# If Gym is blank, replace with 'No'\ndf['Gym'] = df['Gym'].fillna('No')\n\n# Check Missing Values\nmissing_counts = df.isnull().sum()\nprint(\"\\nMissing Values after type conversion:\")\nprint(missing_counts)\n\n# Example fill strategy for Weight(kg): fill with mean if missing\ndf['Weight(kg)'] = df['Weight(kg)'].fillna(df['Weight(kg)'].mean())\n\n# Re-check missing\nprint(\"\\nMissing Values after filling:\")\nprint(df.isnull().sum())\n\nprint(\"\\nStats Overview (post-cleaning):\")\ndisplay(df.describe())\nprint(\"Data cleaning complete!\")",
      "metadata": {
        "trusted": true
      },
      "outputs": [
        {
          "name": "stdout",
          "text": "\nData Types before conversions:\n",
          "output_type": "stream"
        },
        {
          "output_type": "display_data",
          "data": {
            "text/plain": "Days                   object\nWeight(kg)            float64\nStep_count              int32\nGym                    object\nCalorie(kcal)           int32\nGym_Bool                 bool\nDay_Type               object\nWeight_Change         float64\nStep_RollingAvg_7d    float64\ndtype: object"
          },
          "metadata": {}
        },
        {
          "name": "stdout",
          "text": "\nMissing Values after type conversion:\nDays                  0\nWeight(kg)            0\nStep_count            0\nGym                   0\nCalorie(kcal)         0\nGym_Bool              0\nDay_Type              0\nWeight_Change         0\nStep_RollingAvg_7d    0\ndtype: int64\n\nMissing Values after filling:\nDays                  0\nWeight(kg)            0\nStep_count            0\nGym                   0\nCalorie(kcal)         0\nGym_Bool              0\nDay_Type              0\nWeight_Change         0\nStep_RollingAvg_7d    0\ndtype: int64\n\nStats Overview (post-cleaning):\n",
          "output_type": "stream"
        },
        {
          "output_type": "display_data",
          "data": {
            "text/plain": "       Weight(kg)    Step_count  Calorie(kcal)  Weight_Change  \\\ncount   43.000000     43.000000      43.000000      43.000000   \nmean    92.579070   5310.093023    3691.046512       0.134884   \nstd      2.195944   2620.707882     301.021195       2.222170   \nmin     83.900000   1649.000000    3410.000000      -9.300000   \n25%     91.250000   2603.500000    3660.000000      -0.200000   \n50%     92.600000   4505.000000    3660.000000       0.000000   \n75%     94.250000   7590.000000    3660.000000       0.400000   \nmax     95.700000  10136.000000    4875.000000      10.500000   \n\n       Step_RollingAvg_7d  \ncount           43.000000  \nmean          4705.671096  \nstd           2197.246462  \nmin              0.000000  \n25%           3650.642857  \n50%           5738.714286  \n75%           6197.785714  \nmax           6983.571429  ",
            "text/html": "<div>\n<style scoped>\n    .dataframe tbody tr th:only-of-type {\n        vertical-align: middle;\n    }\n\n    .dataframe tbody tr th {\n        vertical-align: top;\n    }\n\n    .dataframe thead th {\n        text-align: right;\n    }\n</style>\n<table border=\"1\" class=\"dataframe\">\n  <thead>\n    <tr style=\"text-align: right;\">\n      <th></th>\n      <th>Weight(kg)</th>\n      <th>Step_count</th>\n      <th>Calorie(kcal)</th>\n      <th>Weight_Change</th>\n      <th>Step_RollingAvg_7d</th>\n    </tr>\n  </thead>\n  <tbody>\n    <tr>\n      <th>count</th>\n      <td>43.000000</td>\n      <td>43.000000</td>\n      <td>43.000000</td>\n      <td>43.000000</td>\n      <td>43.000000</td>\n    </tr>\n    <tr>\n      <th>mean</th>\n      <td>92.579070</td>\n      <td>5310.093023</td>\n      <td>3691.046512</td>\n      <td>0.134884</td>\n      <td>4705.671096</td>\n    </tr>\n    <tr>\n      <th>std</th>\n      <td>2.195944</td>\n      <td>2620.707882</td>\n      <td>301.021195</td>\n      <td>2.222170</td>\n      <td>2197.246462</td>\n    </tr>\n    <tr>\n      <th>min</th>\n      <td>83.900000</td>\n      <td>1649.000000</td>\n      <td>3410.000000</td>\n      <td>-9.300000</td>\n      <td>0.000000</td>\n    </tr>\n    <tr>\n      <th>25%</th>\n      <td>91.250000</td>\n      <td>2603.500000</td>\n      <td>3660.000000</td>\n      <td>-0.200000</td>\n      <td>3650.642857</td>\n    </tr>\n    <tr>\n      <th>50%</th>\n      <td>92.600000</td>\n      <td>4505.000000</td>\n      <td>3660.000000</td>\n      <td>0.000000</td>\n      <td>5738.714286</td>\n    </tr>\n    <tr>\n      <th>75%</th>\n      <td>94.250000</td>\n      <td>7590.000000</td>\n      <td>3660.000000</td>\n      <td>0.400000</td>\n      <td>6197.785714</td>\n    </tr>\n    <tr>\n      <th>max</th>\n      <td>95.700000</td>\n      <td>10136.000000</td>\n      <td>4875.000000</td>\n      <td>10.500000</td>\n      <td>6983.571429</td>\n    </tr>\n  </tbody>\n</table>\n</div>"
          },
          "metadata": {}
        },
        {
          "name": "stdout",
          "text": "Data cleaning complete!\n",
          "output_type": "stream"
        }
      ],
      "execution_count": 7
    },
    {
      "id": "feature-engineering",
      "cell_type": "markdown",
      "source": "<a id='feature-engineering'></a>\n## 5. Feature Engineering\nWe can create new columns to help with analysis, such as:\n- **Gym_Bool**: Convert \"Yes\" to `True`, else `False`.\n- **Day_Type**: Classify days as `Weekend` vs. `Weekday`.\n- **Weight_Change**: Difference in weight from previous day.\n- (Bonus) A **Rolling Average** of weight or steps, if needed.\n",
      "metadata": {}
    },
    {
      "id": "feature-engineering-code",
      "cell_type": "code",
      "source": "# ------------------------------------------------------------------------------\n# Feature Engineering\n# ------------------------------------------------------------------------------\n\n# 5.1 Gym_Bool\ndf['Gym_Bool'] = df['Gym'].apply(lambda x: True if x == 'Yes' else False)\n\n# 5.2 Day_Type (Weekend vs. Weekday)\nweekend_days = ['Saturday','Sunday']\ndf['Day_Type'] = df['Days'].apply(lambda d: 'Weekend' if d in weekend_days else 'Weekday')\n\n# 5.3 Weight_Change\ndf['Weight_Change'] = df['Weight(kg)'].diff().fillna(0)\n\n# Bonus: Rolling average of Step_count over a 7-day window (if we had enough data in order)\ntry:\n    # We'll assume 'df.index' represents consecutive days in order.\n    df['Step_RollingAvg_7d'] = df['Step_count'].rolling(window=7).mean().fillna(0)\nexcept:\n    df['Step_RollingAvg_7d'] = 0\n    print(\"Rolling average not applied (check data length or ordering)\")\n\n# Check new columns\ndisplay(df.head(10))",
      "metadata": {
        "trusted": true
      },
      "outputs": [
        {
          "output_type": "display_data",
          "data": {
            "text/plain": "        Days  Weight(kg)  Step_count  Gym  Calorie(kcal)  Gym_Bool Day_Type  \\\n0   Thursday        89.5        4500  Yes           3410      True  Weekday   \n1     Sunday        89.3        3254  Yes           3410      True  Weekend   \n2     Monday        91.2        4149   No           3410     False  Weekday   \n3    Tuesday        90.8        7342  Yes           3410      True  Weekday   \n4  Wednesday        90.7        7784  Yes           3410      True  Weekday   \n5   Thursday        90.9        7213  Yes           3410      True  Weekday   \n6     Friday        90.6        7644   No           3410     False  Weekday   \n7   Saturday        90.3        4131  Yes           3410      True  Weekend   \n8     Sunday        90.9        2718  Yes           3410      True  Weekend   \n9     Monday        91.3        6421   No           3660     False  Weekday   \n\n   Weight_Change  Step_RollingAvg_7d  \n0            0.0            0.000000  \n1           -0.2            0.000000  \n2            1.9            0.000000  \n3           -0.4            0.000000  \n4           -0.1            0.000000  \n5            0.2            0.000000  \n6           -0.3         5983.714286  \n7           -0.3         5931.000000  \n8            0.6         5854.428571  \n9            0.4         6179.000000  ",
            "text/html": "<div>\n<style scoped>\n    .dataframe tbody tr th:only-of-type {\n        vertical-align: middle;\n    }\n\n    .dataframe tbody tr th {\n        vertical-align: top;\n    }\n\n    .dataframe thead th {\n        text-align: right;\n    }\n</style>\n<table border=\"1\" class=\"dataframe\">\n  <thead>\n    <tr style=\"text-align: right;\">\n      <th></th>\n      <th>Days</th>\n      <th>Weight(kg)</th>\n      <th>Step_count</th>\n      <th>Gym</th>\n      <th>Calorie(kcal)</th>\n      <th>Gym_Bool</th>\n      <th>Day_Type</th>\n      <th>Weight_Change</th>\n      <th>Step_RollingAvg_7d</th>\n    </tr>\n  </thead>\n  <tbody>\n    <tr>\n      <th>0</th>\n      <td>Thursday</td>\n      <td>89.5</td>\n      <td>4500</td>\n      <td>Yes</td>\n      <td>3410</td>\n      <td>True</td>\n      <td>Weekday</td>\n      <td>0.0</td>\n      <td>0.000000</td>\n    </tr>\n    <tr>\n      <th>1</th>\n      <td>Sunday</td>\n      <td>89.3</td>\n      <td>3254</td>\n      <td>Yes</td>\n      <td>3410</td>\n      <td>True</td>\n      <td>Weekend</td>\n      <td>-0.2</td>\n      <td>0.000000</td>\n    </tr>\n    <tr>\n      <th>2</th>\n      <td>Monday</td>\n      <td>91.2</td>\n      <td>4149</td>\n      <td>No</td>\n      <td>3410</td>\n      <td>False</td>\n      <td>Weekday</td>\n      <td>1.9</td>\n      <td>0.000000</td>\n    </tr>\n    <tr>\n      <th>3</th>\n      <td>Tuesday</td>\n      <td>90.8</td>\n      <td>7342</td>\n      <td>Yes</td>\n      <td>3410</td>\n      <td>True</td>\n      <td>Weekday</td>\n      <td>-0.4</td>\n      <td>0.000000</td>\n    </tr>\n    <tr>\n      <th>4</th>\n      <td>Wednesday</td>\n      <td>90.7</td>\n      <td>7784</td>\n      <td>Yes</td>\n      <td>3410</td>\n      <td>True</td>\n      <td>Weekday</td>\n      <td>-0.1</td>\n      <td>0.000000</td>\n    </tr>\n    <tr>\n      <th>5</th>\n      <td>Thursday</td>\n      <td>90.9</td>\n      <td>7213</td>\n      <td>Yes</td>\n      <td>3410</td>\n      <td>True</td>\n      <td>Weekday</td>\n      <td>0.2</td>\n      <td>0.000000</td>\n    </tr>\n    <tr>\n      <th>6</th>\n      <td>Friday</td>\n      <td>90.6</td>\n      <td>7644</td>\n      <td>No</td>\n      <td>3410</td>\n      <td>False</td>\n      <td>Weekday</td>\n      <td>-0.3</td>\n      <td>5983.714286</td>\n    </tr>\n    <tr>\n      <th>7</th>\n      <td>Saturday</td>\n      <td>90.3</td>\n      <td>4131</td>\n      <td>Yes</td>\n      <td>3410</td>\n      <td>True</td>\n      <td>Weekend</td>\n      <td>-0.3</td>\n      <td>5931.000000</td>\n    </tr>\n    <tr>\n      <th>8</th>\n      <td>Sunday</td>\n      <td>90.9</td>\n      <td>2718</td>\n      <td>Yes</td>\n      <td>3410</td>\n      <td>True</td>\n      <td>Weekend</td>\n      <td>0.6</td>\n      <td>5854.428571</td>\n    </tr>\n    <tr>\n      <th>9</th>\n      <td>Monday</td>\n      <td>91.3</td>\n      <td>6421</td>\n      <td>No</td>\n      <td>3660</td>\n      <td>False</td>\n      <td>Weekday</td>\n      <td>0.4</td>\n      <td>6179.000000</td>\n    </tr>\n  </tbody>\n</table>\n</div>"
          },
          "metadata": {}
        }
      ],
      "execution_count": 8
    },
    {
      "id": "saving-data",
      "cell_type": "markdown",
      "source": "<a id='saving-data'></a>\n## 6. Saving Processed Data\nAfter cleaning and feature engineering, We save this final version of the dataset for further analysis.\n\n_We’ll name our output file **`my_personal_health_data_processed.csv`**._",
      "metadata": {}
    },
    {
      "id": "saving-data-code",
      "cell_type": "code",
      "source": "# ------------------------------------------------------------------------------\n# Save the processed dataset to a new CSV\n# ------------------------------------------------------------------------------\n\nprocessed_file = 'my_personal_health_data_processed.csv'\ndf.to_csv(processed_file, index=False)\nprint(f\"Processed data saved as: {processed_file}\")",
      "metadata": {
        "trusted": true
      },
      "outputs": [
        {
          "name": "stdout",
          "text": "Processed data saved as: my_personal_health_data_processed.csv\n",
          "output_type": "stream"
        }
      ],
      "execution_count": 9
    },
    {
      "id": "conclusion",
      "cell_type": "markdown",
      "source": "<a id='conclusion'></a>\n## 7. Conclusion\nIn this notebook, we:\n1. **Loaded** the raw dataset and handled delimiter issues.\n2. Performed **data cleaning** (addressed missing values, standardized data types).\n3. Created **new features** like `Gym_Bool`, `Day_Type`, `Weight_Change`, and optionally a rolling average.\n4. **Saved** the final processed data for future analysis (e.g., in `data_analysis.ipynb`).\n\n> **Next Step**: We’ll explore correlations, statistical tests, and potential modeling in our analysis notebook.\n\n___\n**End of Data Processing Notebook**",
      "metadata": {}
    },
    {
      "id": "431fbba5-6277-49d1-8321-70470c34027f",
      "cell_type": "code",
      "source": "",
      "metadata": {
        "trusted": true
      },
      "outputs": [],
      "execution_count": null
    }
  ]
}
